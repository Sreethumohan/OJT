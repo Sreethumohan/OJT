{
 "cells": [
  {
   "cell_type": "code",
   "execution_count": 1,
   "id": "cc9eca05-9890-4da9-a3be-da3cc1dcfdfe",
   "metadata": {},
   "outputs": [],
   "source": [
    "import re\n",
    "import nltk\n",
    "from nltk.tokenize import word_tokenize"
   ]
  },
  {
   "cell_type": "code",
   "execution_count": 7,
   "id": "2168e9ec-6343-4207-87d0-acf6462fe2a0",
   "metadata": {},
   "outputs": [],
   "source": [
    "#sample text\n",
    "text=\"John Doe is the CEO of OpenAI, he lives in san Fransiscico.\""
   ]
  },
  {
   "cell_type": "code",
   "execution_count": 11,
   "id": "50906265-fc8f-4b7d-b0ec-bcf36157c9df",
   "metadata": {},
   "outputs": [],
   "source": [
    "person_lexicon=(\"John Doe\",\"Alice\",\"Bob\")\n",
    "organization_lexicon=(\"OpenAI\",\"Google\",\"Microsoft\")\n",
    "location_lexicon={\"san Fransisco\",\"New York\",\"Los Angeles\"}"
   ]
  },
  {
   "cell_type": "code",
   "execution_count": 40,
   "id": "ba099a81-94a1-4cc7-839a-1e0ae0b13883",
   "metadata": {},
   "outputs": [
    {
     "name": "stdout",
     "output_type": "stream",
     "text": [
      "Lexicon-based NER:\n",
      "[('John Doe', 'PERSON'), ('Alice', 'PERSON'), ('Bob', 'PERSON')]\n"
     ]
    }
   ],
   "source": [
    "def lexicon_based_ner(text):\n",
    "       entities=[]\n",
    "       tokens=word_tokenize(text)\n",
    "       for token in person_lexicon:\n",
    "            if token in person_lexicon:\n",
    "               entities.append((token,\"PERSON\"))\n",
    "            elif token in organisation_lexicon:\n",
    "               entties.append((token,\"ORG\"))\n",
    "            elif token in location_lexicon:\n",
    "               entities.append((token,\"LOC\"))\n",
    "       return entities\n",
    "print(\"Lexicon-based NER:\")\n",
    "print(lexicon_based_ner(text))\n",
    "\n",
    " \n",
    "    \n",
    "    \n",
    "      \n",
    "         \n",
    "    \n",
    "         \n",
    "    \n",
    "        \n",
    "  \n",
    "\n"
   ]
  },
  {
   "cell_type": "code",
   "execution_count": null,
   "id": "4e50f463-d9fb-4a96-bfd2-0e859bb59476",
   "metadata": {},
   "outputs": [],
   "source": []
  }
 ],
 "metadata": {
  "kernelspec": {
   "display_name": "Python 3 (ipykernel)",
   "language": "python",
   "name": "python3"
  },
  "language_info": {
   "codemirror_mode": {
    "name": "ipython",
    "version": 3
   },
   "file_extension": ".py",
   "mimetype": "text/x-python",
   "name": "python",
   "nbconvert_exporter": "python",
   "pygments_lexer": "ipython3",
   "version": "3.11.5"
  }
 },
 "nbformat": 4,
 "nbformat_minor": 5
}
