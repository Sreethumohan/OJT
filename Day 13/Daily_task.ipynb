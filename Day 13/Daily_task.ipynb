{
 "cells": [
  {
   "cell_type": "code",
   "execution_count": 16,
   "id": "6af716d7-7613-4ffd-87e0-76677f9f7a9d",
   "metadata": {
    "tags": []
   },
   "outputs": [
    {
     "name": "stdout",
     "output_type": "stream",
     "text": [
      "The third element is :  4\n",
      "The fourth element is :  5\n",
      " And Their sum  is : 9\n"
     ]
    }
   ],
   "source": [
    "#1.Get third and fourth elements from an array and add them\n",
    "import numpy as np\n",
    "array=np.array([1,2,3,4,5])\n",
    "get_third_element=array[3]\n",
    "get_fourth_element=array[4]\n",
    "print(\"The third element is : \",get_third_element)\n",
    "print(\"The fourth element is : \",get_fourth_element)\n",
    "add=get_third_element+get_fourth_element\n",
    "print(' And Their sum  is :',add)"
   ]
  },
  {
   "cell_type": "code",
   "execution_count": 21,
   "id": "e17428e4-a3f5-4e25-98b0-32c7e0a47e38",
   "metadata": {
    "tags": []
   },
   "outputs": [
    {
     "name": "stdout",
     "output_type": "stream",
     "text": [
      "[ 8  9  6 11 23 56]\n",
      "[ 6 12 56]\n"
     ]
    }
   ],
   "source": [
    "#2.Access the element on the 2nd row, 5th column in the array\n",
    "import numpy as np\n",
    "array=np.array([[1,2,3,4,5,6,],[7,8,9,10,11,12],[8,9,6,11,23,56]])\n",
    "get_element_2ndrow=array[2,:]\n",
    "get_elements_5thcolm=array[:,5]\n",
    "print(get_element_2ndrow)\n",
    "print(get_elements_5thcolm)"
   ]
  },
  {
   "cell_type": "code",
   "execution_count": 31,
   "id": "66ae3fb7-77ae-4152-9f95-3d79d50bac6f",
   "metadata": {
    "tags": []
   },
   "outputs": [
    {
     "name": "stdout",
     "output_type": "stream",
     "text": [
      "9\n"
     ]
    }
   ],
   "source": [
    "#3.Access the third element of the second array of the first array\n",
    "arr = np.array([[1, 2, 3, 4, 0], [5, 6, 7, 8, 9]])\n",
    "element = arr[1, 3]\n",
    "print(element)"
   ]
  },
  {
   "cell_type": "code",
   "execution_count": 24,
   "id": "f7ca722a-25b0-4eee-95c5-e18277c4c38f",
   "metadata": {
    "tags": []
   },
   "outputs": [
    {
     "name": "stdout",
     "output_type": "stream",
     "text": [
      "[5 8 0 7]\n"
     ]
    }
   ],
   "source": [
    "#4.Slice elements from the beginning to index 4 (not included)\n",
    "array=np.array([5,8,0,7,10])\n",
    "slice_element=array[:-1]\n",
    "print(slice_element)"
   ]
  },
  {
   "cell_type": "code",
   "execution_count": 28,
   "id": "62b4047c-8305-4927-9885-b4feefdd0b5e",
   "metadata": {
    "tags": []
   },
   "outputs": [
    {
     "name": "stdout",
     "output_type": "stream",
     "text": [
      "[36 48]\n"
     ]
    }
   ],
   "source": [
    "#5.Slice from the index 3 from the end to index 1 from the end\n",
    "array=np.array([12,24,36,48,60])\n",
    "Index_3_1=array[-3:-1]\n",
    "print(Index_3_1)"
   ]
  }
 ],
 "metadata": {
  "kernelspec": {
   "display_name": "Python 3 (ipykernel)",
   "language": "python",
   "name": "python3"
  },
  "language_info": {
   "codemirror_mode": {
    "name": "ipython",
    "version": 3
   },
   "file_extension": ".py",
   "mimetype": "text/x-python",
   "name": "python",
   "nbconvert_exporter": "python",
   "pygments_lexer": "ipython3",
   "version": "3.11.5"
  }
 },
 "nbformat": 4,
 "nbformat_minor": 5
}
