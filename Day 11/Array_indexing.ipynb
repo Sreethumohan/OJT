{
 "cells": [
  {
   "cell_type": "code",
   "execution_count": 1,
   "id": "63aab58d-59b0-4043-873a-77422acdd6ef",
   "metadata": {
    "tags": []
   },
   "outputs": [
    {
     "name": "stdout",
     "output_type": "stream",
     "text": [
      "The array is : [[1 2 3]\n",
      " [4 5 6]\n",
      " [7 8 9]]\n",
      "The element at(0,0) is : 1\n",
      "The element at(1,2) is : 6\n",
      "First row is : [1 2 3]\n",
      "Second column is : [2 5 8]\n",
      "Subarray of first two rows and columns is : [[1 2]\n",
      " [4 5]]\n"
     ]
    }
   ],
   "source": [
    "import numpy as np\n",
    "array=np.array([[1,2,3],[4,5,6],[7,8,9]])\n",
    "print(\"The array is :\",array)\n",
    "print(\"The element at(0,0) is :\",array[0,0])\n",
    "print(\"The element at(1,2) is :\",array[1,2])\n",
    "print(\"First row is :\", array[0, :])\n",
    "print(\"Second column is :\", array[:, 1])\n",
    "print(\"Subarray of first two rows and columns is :\", array[:2, :2])\n"
   ]
  },
  {
   "cell_type": "code",
   "execution_count": null,
   "id": "c6feebc6-5a7a-4c04-b1c8-e78e49c50fa8",
   "metadata": {},
   "outputs": [],
   "source": []
  }
 ],
 "metadata": {
  "kernelspec": {
   "display_name": "Python 3 (ipykernel)",
   "language": "python",
   "name": "python3"
  },
  "language_info": {
   "codemirror_mode": {
    "name": "ipython",
    "version": 3
   },
   "file_extension": ".py",
   "mimetype": "text/x-python",
   "name": "python",
   "nbconvert_exporter": "python",
   "pygments_lexer": "ipython3",
   "version": "3.11.5"
  }
 },
 "nbformat": 4,
 "nbformat_minor": 5
}
