{
 "cells": [
  {
   "cell_type": "code",
   "execution_count": 1,
   "id": "6caf56d1-6a7a-460f-814d-80d00057b848",
   "metadata": {
    "tags": []
   },
   "outputs": [
    {
     "name": "stdout",
     "output_type": "stream",
     "text": [
      "dict['Programmer']:  Business Layer\n",
      "dict['UI Developer']:  Presentation Layer\n"
     ]
    }
   ],
   "source": [
    "## Accessing Dictionary\n",
    "dict = {'Programmer': 'Business Layer', 'DataBase Admin': 'Database Layer', 'UI Developer': 'Presentation Layer'}\n",
    "print (\"dict['Programmer']: \", dict['Programmer']) \n",
    "print (\"dict['UI Developer']: \", dict['UI Developer']) "
   ]
  },
  {
   "cell_type": "code",
   "execution_count": 3,
   "id": "5bee11eb-37fd-4b95-b3f6-9ead119133a1",
   "metadata": {
    "tags": []
   },
   "outputs": [
    {
     "name": "stdout",
     "output_type": "stream",
     "text": [
      "dict['Programmer']:  Architecture Design\n"
     ]
    }
   ],
   "source": [
    "# Updating Dictionary\n",
    "dict = {'Programmer': 'Business Layer', 'DataBase Admin': 'Database Layer', 'UI Developer': 'Presentation Layer'}\n",
    "# Updating a New Entry\n",
    "dict['Programmer'] = 'Architecture Design'\n",
    "# Showing New Entry\n",
    "print (\"dict['Programmer']: \", dict['Programmer'])"
   ]
  },
  {
   "cell_type": "code",
   "execution_count": 4,
   "id": "54c79eec-e1f6-4881-b228-6dd986fd2f13",
   "metadata": {
    "tags": []
   },
   "outputs": [
    {
     "name": "stdout",
     "output_type": "stream",
     "text": [
      "dict['Programmer']:  dict['programmer']\n",
      "dict['Database Admin']:  dict['Database Admin']\n"
     ]
    }
   ],
   "source": [
    "# Deletion in Dictionary\n",
    "dict = {'Programmer': 'Business Layer', 'DataBase Admin': 'Database Layer', 'UI Developer': 'Presentation Layer'}\n",
    "del dict['UI Developer']; \n",
    "dict.clear(); # remove all entries in dict \n",
    "del dict ; # delete entire dictionary \n",
    "print (\"dict['Programmer']: \", dict['programmer']) \n",
    "print (\"dict['Database Admin']: \", dict['Database Admin']) "
   ]
  },
  {
   "cell_type": "code",
   "execution_count": 5,
   "id": "9e0ab263-b54d-41f7-886f-d7346be83659",
   "metadata": {
    "tags": []
   },
   "outputs": [
    {
     "name": "stdout",
     "output_type": "stream",
     "text": [
      "Love your job\n",
      " but don't love your company,\n",
      " because you may not know when your company stops loving you.\n"
     ]
    }
   ],
   "source": [
    "#Display texts in Multiple Lines\n",
    "#Use of \\n\n",
    "print('Love your job\\n but don\\'t love your company,\\n because you may not know when your company stops loving you.') "
   ]
  },
  {
   "cell_type": "code",
   "execution_count": 9,
   "id": "97a6e769-4c86-4cef-916b-907d907c9802",
   "metadata": {
    "tags": []
   },
   "outputs": [
    {
     "name": "stdout",
     "output_type": "stream",
     "text": [
      "Love your job\n",
      "but don't love your company,\n",
      "because you may not know when your company \n",
      "stops loving you.\n"
     ]
    }
   ],
   "source": [
    "#Use of Triple Quotes\n",
    "print('''Love your job\n",
    "but don\\'t love your company,\n",
    "because you may not know when your company \n",
    "stops loving you.''') "
   ]
  },
  {
   "cell_type": "code",
   "execution_count": 8,
   "id": "1fece6dd-6671-4cb5-936d-a34a39bc7751",
   "metadata": {
    "tags": []
   },
   "outputs": [
    {
     "name": "stdout",
     "output_type": "stream",
     "text": [
      "Love your job\n",
      "but don't love your company,\n",
      "because you may not know when your company \n",
      "stops loving you.\n"
     ]
    }
   ],
   "source": [
    "print(\"\"\"Love your job\n",
    "but don\\'t love your company,\n",
    "because you may not know when your company \n",
    "stops loving you.\"\"\") "
   ]
  },
  {
   "cell_type": "code",
   "execution_count": 10,
   "id": "449c487e-db11-4a40-974f-a92de5fd810d",
   "metadata": {
    "tags": []
   },
   "outputs": [
    {
     "name": "stdout",
     "output_type": "stream",
     "text": [
      "7 is a non-zero value.\n",
      "Thankyou\n"
     ]
    }
   ],
   "source": [
    "#if-else\n",
    "num=7\n",
    "if num>0:\n",
    "    print(num,\"is a non-zero value.\")\n",
    "print(\"Thankyou\")"
   ]
  },
  {
   "cell_type": "code",
   "execution_count": 11,
   "id": "06ae9f8d-a6c9-489d-975a-3ab19b3848b0",
   "metadata": {
    "tags": []
   },
   "outputs": [
    {
     "name": "stdout",
     "output_type": "stream",
     "text": [
      "Non-zero or Zero\n"
     ]
    }
   ],
   "source": [
    "num=0\n",
    "if num>=0:\n",
    "    print(\"Non-zero or Zero\")\n",
    "else:\n",
    "    print(\"Neg.number\")"
   ]
  },
  {
   "cell_type": "code",
   "execution_count": 12,
   "id": "eb48572a-35b2-4e8e-b570-87c418ee4109",
   "metadata": {
    "tags": []
   },
   "outputs": [
    {
     "name": "stdout",
     "output_type": "stream",
     "text": [
      "Negative number\n"
     ]
    }
   ],
   "source": [
    "num=-3\n",
    "if num>=0:\n",
    "    print(\"Non-Zero or Zero\")\n",
    "else:\n",
    "    print(\"Negative number\")"
   ]
  },
  {
   "cell_type": "code",
   "execution_count": 14,
   "id": "afaf2f34-3e61-4da5-a926-5c268a99b6d7",
   "metadata": {
    "tags": []
   },
   "outputs": [
    {
     "name": "stdout",
     "output_type": "stream",
     "text": [
      "Positive number\n"
     ]
    }
   ],
   "source": [
    "#Nested if-else\n",
    "num=6.7\n",
    "if num>0:\n",
    "    print(\"Positive number\")\n",
    "elif num==0:\n",
    "    print(\"zero\")\n",
    "else:\n",
    "    print(\"Neg.number\")"
   ]
  },
  {
   "cell_type": "code",
   "execution_count": 15,
   "id": "a80b7c12-95e0-4cf2-be80-ba568a7cd0c1",
   "metadata": {
    "tags": []
   },
   "outputs": [
    {
     "name": "stdout",
     "output_type": "stream",
     "text": [
      "Neg.number\n"
     ]
    }
   ],
   "source": [
    "num=-8.9\n",
    "if num>0:\n",
    "    print(\"Positive number\")\n",
    "elif num==0:\n",
    "    print(\"zero\")\n",
    "else:\n",
    "    print(\"Neg.number\")"
   ]
  },
  {
   "cell_type": "code",
   "execution_count": 16,
   "id": "6f61b29b-441c-4e94-83a4-50285e18855b",
   "metadata": {
    "tags": []
   },
   "outputs": [
    {
     "name": "stdout",
     "output_type": "stream",
     "text": [
      "zero\n"
     ]
    }
   ],
   "source": [
    "num=0\n",
    "if num>0:\n",
    "    print(\"Positive number\")\n",
    "elif num==0:\n",
    "    print(\"zero\")\n",
    "else:\n",
    "    print(\"Neg.number\")"
   ]
  },
  {
   "cell_type": "code",
   "execution_count": 17,
   "id": "a57950a7-6586-4bf2-96bb-61b09a34fa70",
   "metadata": {
    "tags": []
   },
   "outputs": [
    {
     "name": "stdout",
     "output_type": "stream",
     "text": [
      "The sum is 37\n"
     ]
    }
   ],
   "source": [
    "#for Statement\n",
    "numbers=[6,5,3,8,4,2,5,4]\n",
    "sum=0\n",
    "for val in numbers:\n",
    "    sum=sum+val\n",
    "print(\"The sum is\",sum)"
   ]
  },
  {
   "cell_type": "code",
   "execution_count": 19,
   "id": "3935a8ee-8f9e-4022-8765-eca025c377c8",
   "metadata": {
    "tags": []
   },
   "outputs": [
    {
     "name": "stdout",
     "output_type": "stream",
     "text": [
      "0\n",
      "1\n",
      "3\n",
      "6\n",
      "No items left\n"
     ]
    }
   ],
   "source": [
    "numbers=[0,1,3,6]\n",
    "for i in numbers:\n",
    "    print(i)\n",
    "else:\n",
    "    print(\"No items left\")"
   ]
  },
  {
   "cell_type": "code",
   "execution_count": null,
   "id": "7995dc03-4ea7-4dd8-82d4-b7f611e716f1",
   "metadata": {},
   "outputs": [],
   "source": []
  }
 ],
 "metadata": {
  "kernelspec": {
   "display_name": "Python 3 (ipykernel)",
   "language": "python",
   "name": "python3"
  },
  "language_info": {
   "codemirror_mode": {
    "name": "ipython",
    "version": 3
   },
   "file_extension": ".py",
   "mimetype": "text/x-python",
   "name": "python",
   "nbconvert_exporter": "python",
   "pygments_lexer": "ipython3",
   "version": "3.11.5"
  }
 },
 "nbformat": 4,
 "nbformat_minor": 5
}
