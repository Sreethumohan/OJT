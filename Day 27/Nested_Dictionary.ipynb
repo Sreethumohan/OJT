{
 "cells": [
  {
   "cell_type": "code",
   "execution_count": 1,
   "id": "44eb6b77-a1fa-4628-af15-e12332a3b8a7",
   "metadata": {
    "tags": []
   },
   "outputs": [
    {
     "name": "stdout",
     "output_type": "stream",
     "text": [
      "{'file1.txt': {}, 'file2.txt': {}}\n",
      "None\n"
     ]
    }
   ],
   "source": [
    "# Given a nested dictionary representing a file system structure, write a function that takes a path as a string (e.g., \"/home/user/documents\") and returns the corresponding nested dictionary object. Handle cases where the path doesn't exist\n",
    "def access_nested_dict(file_system, path):\n",
    "    current = file_system\n",
    "    for directory in path.strip('/').split('/'):\n",
    "        if directory in current:\n",
    "            current = current[directory]\n",
    "        else:\n",
    "            return None\n",
    "    return current\n",
    "# Example usage:\n",
    "fs = {\n",
    "    'home': {\n",
    "        'user': {\n",
    "            'documents': {'file1.txt': {}, 'file2.txt': {}},\n",
    "            'downloads': {}\n",
    "        }\n",
    "    }\n",
    "}\n",
    "print(access_nested_dict(fs, '/home/user/documents'))\n",
    "# Output: {'file1.txt': {}, 'file2.txt': {}}\n",
    "print(access_nested_dict(fs, '/home/user/pictures'))\n",
    "# Output: None"
   ]
  },
  {
   "cell_type": "code",
   "execution_count": null,
   "id": "4be665b6-7286-4da8-8fd6-d967e7f5ca7f",
   "metadata": {},
   "outputs": [],
   "source": []
  }
 ],
 "metadata": {
  "kernelspec": {
   "display_name": "Python 3 (ipykernel)",
   "language": "python",
   "name": "python3"
  },
  "language_info": {
   "codemirror_mode": {
    "name": "ipython",
    "version": 3
   },
   "file_extension": ".py",
   "mimetype": "text/x-python",
   "name": "python",
   "nbconvert_exporter": "python",
   "pygments_lexer": "ipython3",
   "version": "3.11.5"
  }
 },
 "nbformat": 4,
 "nbformat_minor": 5
}
