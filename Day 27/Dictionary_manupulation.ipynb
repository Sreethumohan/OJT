{
 "cells": [
  {
   "cell_type": "code",
   "execution_count": 1,
   "id": "cebc9865-3518-47ff-b794-279d94fce4cd",
   "metadata": {
    "tags": []
   },
   "outputs": [
    {
     "name": "stdout",
     "output_type": "stream",
     "text": [
      "{'a': 1, 'b': 3, 'c': 4}\n"
     ]
    }
   ],
   "source": [
    "# Write a Python function that takes two dictionaries as input and returns a new dictionary containing all key-value pairs from both dictionaries. If a key exists in both dictionaries, the value from the second dictionary should be used.\n",
    "\n",
    "def merge_dicts(dict1, dict2):\n",
    "    return {**dict1, **dict2}\n",
    "\n",
    "# Alternative solution:\n",
    "# def merge_dicts(dict1, dict2):\n",
    "#     result = dict1.copy()\n",
    "#     result.update(dict2)\n",
    "#     return result\n",
    "\n",
    "# Example usage:\n",
    "d1 = {'a': 1, 'b': 2}\n",
    "d2 = {'b': 3, 'c': 4}\n",
    "print(merge_dicts(d1, d2))  # Output: {'a': 1, 'b': 3, 'c': 4}\n"
   ]
  },
  {
   "cell_type": "code",
   "execution_count": null,
   "id": "3bb9949c-7d45-4eec-8c92-088a1c1a617a",
   "metadata": {},
   "outputs": [],
   "source": []
  }
 ],
 "metadata": {
  "kernelspec": {
   "display_name": "Python 3 (ipykernel)",
   "language": "python",
   "name": "python3"
  },
  "language_info": {
   "codemirror_mode": {
    "name": "ipython",
    "version": 3
   },
   "file_extension": ".py",
   "mimetype": "text/x-python",
   "name": "python",
   "nbconvert_exporter": "python",
   "pygments_lexer": "ipython3",
   "version": "3.11.5"
  }
 },
 "nbformat": 4,
 "nbformat_minor": 5
}
