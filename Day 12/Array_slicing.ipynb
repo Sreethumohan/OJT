{
 "cells": [
  {
   "cell_type": "code",
   "execution_count": 1,
   "id": "ffc617e2-2e8e-4c76-811a-868a4a1d32b5",
   "metadata": {
    "tags": []
   },
   "outputs": [
    {
     "name": "stdout",
     "output_type": "stream",
     "text": [
      "[[ 7  8  9]\n",
      " [12 13 14]]\n"
     ]
    }
   ],
   "source": [
    "import numpy as np\n",
    "# Create a 2D NumPy array\n",
    "arr2d = np.array([[0, 1, 2, 3, 4],\n",
    "                  [5, 6, 7, 8, 9],\n",
    "                  [10, 11, 12, 13, 14],\n",
    "                  [15, 16, 17, 18, 19]])\n",
    "\n",
    "# Access a specific element (row 1, column 2)\n",
    "element = arr2d[1, 2]\n",
    "# Slice a sub-array (rows 1 to 3, columns 2 to 4)\n",
    "sub_array = arr2d[1:3, 2:5]\n",
    "print(sub_array)"
   ]
  },
  {
   "cell_type": "code",
   "execution_count": null,
   "id": "dbe85b42-4abc-4708-ae25-23b3b758509c",
   "metadata": {},
   "outputs": [],
   "source": []
  }
 ],
 "metadata": {
  "kernelspec": {
   "display_name": "Python 3 (ipykernel)",
   "language": "python",
   "name": "python3"
  },
  "language_info": {
   "codemirror_mode": {
    "name": "ipython",
    "version": 3
   },
   "file_extension": ".py",
   "mimetype": "text/x-python",
   "name": "python",
   "nbconvert_exporter": "python",
   "pygments_lexer": "ipython3",
   "version": "3.11.5"
  }
 },
 "nbformat": 4,
 "nbformat_minor": 5
}
