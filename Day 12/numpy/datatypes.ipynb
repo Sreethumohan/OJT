{
 "cells": [
  {
   "cell_type": "code",
   "execution_count": null,
   "id": "3cb5fe0e-6acb-49f2-94d2-8e2c73508d79",
   "metadata": {},
   "outputs": [],
   "source": [
    "#data types in numpy\n",
    "#1.integer\n",
    "#2.float\n",
    "#3.boolean\n",
    "#4.complex  eg:1ss\n",
    "#5.string"
   ]
  },
  {
   "cell_type": "code",
   "execution_count": 1,
   "id": "be1cb5e8-5b28-4dd3-9426-15b52bc053c7",
   "metadata": {
    "tags": []
   },
   "outputs": [
    {
     "name": "stdout",
     "output_type": "stream",
     "text": [
      "orginal array:  [1 2 3 4 5 6]\n"
     ]
    }
   ],
   "source": [
    "#creating a view and copy of an array \n",
    "import numpy as np\n",
    "orginal_array=np.array([1,2,3,4,5,6])\n",
    "print(\"orginal array: \",orginal_array)"
   ]
  },
  {
   "cell_type": "code",
   "execution_count": 2,
   "id": "8519c9eb-7101-4c93-b496-d7ce704c7675",
   "metadata": {
    "tags": []
   },
   "outputs": [
    {
     "name": "stdout",
     "output_type": "stream",
     "text": [
      "View of the orginal array is :  [1 2 3 4 5 6]\n"
     ]
    }
   ],
   "source": [
    "#create view\n",
    "#view is a new array object made with the elment in the orginal array/or made with the same data in the orginal array\n",
    "view_array=orginal_array.view()\n",
    "print(\"View of the orginal array is : \",view_array)"
   ]
  },
  {
   "cell_type": "code",
   "execution_count": 3,
   "id": "8e0fcf0c-3ec0-4777-8a71-c1251faccde4",
   "metadata": {
    "tags": []
   },
   "outputs": [
    {
     "name": "stdout",
     "output_type": "stream",
     "text": [
      "modified view of the array :  [ 1  2 30  4  5  6]\n"
     ]
    }
   ],
   "source": [
    "view_array[2]=30\n",
    "print(\"modified view of the array : \",view_array)"
   ]
  },
  {
   "cell_type": "code",
   "execution_count": 5,
   "id": "24aae827-e00c-4fec-97ae-e8a6b6d1aeed",
   "metadata": {
    "tags": []
   },
   "outputs": [
    {
     "name": "stdout",
     "output_type": "stream",
     "text": [
      "print the orginal after modifying the value :  [ 1  2 30  4  5  6]\n"
     ]
    }
   ],
   "source": [
    "print(\"print the orginal after modifying the value : \",orginal_array)"
   ]
  },
  {
   "cell_type": "code",
   "execution_count": 6,
   "id": "c6b2676e-9096-426a-9c51-40b7d795644c",
   "metadata": {
    "tags": []
   },
   "outputs": [
    {
     "name": "stdout",
     "output_type": "stream",
     "text": [
      "The copy of the orginal array is :  [ 1  2 30  4  5  6]\n"
     ]
    }
   ],
   "source": [
    "#copy of orginal array\n",
    "copy_array=orginal_array.copy()\n",
    "print(\"The copy of the orginal array is : \",copy_array)"
   ]
  },
  {
   "cell_type": "code",
   "execution_count": 7,
   "id": "d657ac0e-adec-4854-b138-cfcc7b6f1ef8",
   "metadata": {
    "tags": []
   },
   "outputs": [
    {
     "name": "stdout",
     "output_type": "stream",
     "text": [
      "modified copy array :  [10  2 30  4  5  6]\n",
      "orginal array after modifying the copy array :  [ 1  2 30  4  5  6]\n"
     ]
    }
   ],
   "source": [
    "#modify element in copy array\n",
    "copy_array[0]=10\n",
    "print(\"modified copy array : \",copy_array)\n",
    "print(\"orginal array after modifying the copy array : \",orginal_array)"
   ]
  },
  {
   "cell_type": "code",
   "execution_count": null,
   "id": "ef8fda8f-8672-4edc-bb68-53dd6ff6e8ce",
   "metadata": {},
   "outputs": [],
   "source": [
    "#what ever modification done on the view array will be reflected on the orginal array where as the changes done on copy array will not reflect in the orgianl array"
   ]
  }
 ],
 "metadata": {
  "kernelspec": {
   "display_name": "Python 3 (ipykernel)",
   "language": "python",
   "name": "python3"
  },
  "language_info": {
   "codemirror_mode": {
    "name": "ipython",
    "version": 3
   },
   "file_extension": ".py",
   "mimetype": "text/x-python",
   "name": "python",
   "nbconvert_exporter": "python",
   "pygments_lexer": "ipython3",
   "version": "3.11.5"
  }
 },
 "nbformat": 4,
 "nbformat_minor": 5
}
