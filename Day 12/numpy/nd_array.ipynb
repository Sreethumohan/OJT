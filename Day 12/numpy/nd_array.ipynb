{
 "cells": [
  {
   "cell_type": "code",
   "execution_count": 9,
   "id": "101b4fc0-f8f2-4204-9d34-bf3f3a524744",
   "metadata": {
    "tags": []
   },
   "outputs": [
    {
     "name": "stdout",
     "output_type": "stream",
     "text": [
      "[1 2 3]\n"
     ]
    }
   ],
   "source": [
    "#1-D array\n",
    "import numpy as np\n",
    "oneD_array=np.array([1,2,3])\n",
    "print(oneD_array)"
   ]
  },
  {
   "cell_type": "code",
   "execution_count": 14,
   "id": "39889dd6-fa54-4995-bb0c-57967009e4ac",
   "metadata": {
    "tags": []
   },
   "outputs": [
    {
     "name": "stdout",
     "output_type": "stream",
     "text": [
      "[[1 2 3]\n",
      " [4 5 6]]\n"
     ]
    }
   ],
   "source": [
    "#2-D array\n",
    "twoD_array=np.array([[1,2,3],[4,5,6]])\n",
    "print(twoD_array)"
   ]
  },
  {
   "cell_type": "code",
   "execution_count": 15,
   "id": "2e070e62-6337-43f4-8503-3d49d6ce8e34",
   "metadata": {
    "tags": []
   },
   "outputs": [
    {
     "name": "stdout",
     "output_type": "stream",
     "text": [
      "[[[1 2 3]\n",
      "  [4 5 6]\n",
      "  [7 8 9]]]\n"
     ]
    }
   ],
   "source": [
    "#3-D array\n",
    "twoD_array=np.array([[[1,2,3],[4,5,6],[7,8,9]]])\n",
    "print(twoD_array)"
   ]
  },
  {
   "cell_type": "code",
   "execution_count": 4,
   "id": "e8dc9ae9-cff2-48b2-9ee5-7745cb7fa8b9",
   "metadata": {
    "tags": []
   },
   "outputs": [
    {
     "name": "stdout",
     "output_type": "stream",
     "text": [
      "array with ones:  [[1. 1. 1. 1.]\n",
      " [1. 1. 1. 1.]]\n"
     ]
    }
   ],
   "source": [
    "#create an array with ones\n",
    "import numpy as np\n",
    "array_ones=np.ones((2,4))\n",
    "print(\"array with ones: \",array_ones)#print a 2d array with four elements\n"
   ]
  },
  {
   "cell_type": "code",
   "execution_count": 5,
   "id": "84fe177a-44b2-4799-a62b-bda9159782fe",
   "metadata": {
    "tags": []
   },
   "outputs": [
    {
     "name": "stdout",
     "output_type": "stream",
     "text": [
      "array_zeos : [[0. 0. 0.]\n",
      " [0. 0. 0.]\n",
      " [0. 0. 0.]]\n"
     ]
    }
   ],
   "source": [
    "#create an arrays with zeros\n",
    "array_zeros=np.zeros((3,3))\n",
    "print(\"array_zeos :\",array_zeros)"
   ]
  },
  {
   "cell_type": "code",
   "execution_count": 11,
   "id": "473f2130-ec1b-4579-8db3-a3ad053dab3e",
   "metadata": {
    "tags": []
   },
   "outputs": [
    {
     "name": "stdout",
     "output_type": "stream",
     "text": [
      "array with a range : [0 1 2 3 4 5 6 7 8 9]\n"
     ]
    }
   ],
   "source": [
    "#create an array with a particular range\n",
    "array_range=np.arange(10)\n",
    "print(\"array with a range :\", array_range)"
   ]
  },
  {
   "cell_type": "code",
   "execution_count": null,
   "id": "b442b515-37ed-47b1-add5-6dbb3940bf12",
   "metadata": {},
   "outputs": [],
   "source": []
  }
 ],
 "metadata": {
  "kernelspec": {
   "display_name": "Python 3 (ipykernel)",
   "language": "python",
   "name": "python3"
  },
  "language_info": {
   "codemirror_mode": {
    "name": "ipython",
    "version": 3
   },
   "file_extension": ".py",
   "mimetype": "text/x-python",
   "name": "python",
   "nbconvert_exporter": "python",
   "pygments_lexer": "ipython3",
   "version": "3.11.5"
  }
 },
 "nbformat": 4,
 "nbformat_minor": 5
}
