{
 "cells": [
  {
   "cell_type": "code",
   "execution_count": 3,
   "id": "ac5ab3b3-cabb-41e1-8e62-b237452cfad4",
   "metadata": {
    "tags": []
   },
   "outputs": [
    {
     "name": "stdout",
     "output_type": "stream",
     "text": [
      "element at index of [1,2] is  6\n"
     ]
    }
   ],
   "source": [
    "#access array\n",
    "import numpy as np\n",
    "array_2D=np.array([[1,2,3],[4,5,6]])\n",
    "#accessing single element from this\n",
    "element=array_2D[1,2]\n",
    "print(\"element at index of [1,2] is \",element)"
   ]
  },
  {
   "cell_type": "code",
   "execution_count": 4,
   "id": "824cf602-1686-4ee4-9b59-1d903868680b",
   "metadata": {
    "tags": []
   },
   "outputs": [
    {
     "name": "stdout",
     "output_type": "stream",
     "text": [
      "element at index of [0,1] is  2\n"
     ]
    }
   ],
   "source": [
    "element=array_2D[0,1]\n",
    "print(\"element at index of [0,1] is \",element)"
   ]
  },
  {
   "cell_type": "code",
   "execution_count": 11,
   "id": "41e214af-9678-40f7-bcbb-db78f5f6d08b",
   "metadata": {
    "tags": []
   },
   "outputs": [
    {
     "name": "stdout",
     "output_type": "stream",
     "text": [
      "second row :  [[4 5 6]]\n"
     ]
    }
   ],
   "source": [
    "#access by row\n",
    "row=array_2D[1:]\n",
    "print(\"second row : \", row)"
   ]
  },
  {
   "cell_type": "code",
   "execution_count": 12,
   "id": "cfd93019-8a0f-45b3-a6d4-f04510191650",
   "metadata": {
    "tags": []
   },
   "outputs": [
    {
     "name": "stdout",
     "output_type": "stream",
     "text": [
      "first row :  [1 2 3]\n"
     ]
    }
   ],
   "source": [
    "row=array_2D[0,:]\n",
    "print(\"first row : \", row)"
   ]
  },
  {
   "cell_type": "code",
   "execution_count": 18,
   "id": "8b183b5a-8013-4d87-8b69-bda113642f86",
   "metadata": {
    "tags": []
   },
   "outputs": [
    {
     "name": "stdout",
     "output_type": "stream",
     "text": [
      "second column :  [2 5]\n"
     ]
    }
   ],
   "source": [
    "#access by column\n",
    "column=array_2D[:,1]\n",
    "print(\"second column : \", column)"
   ]
  },
  {
   "cell_type": "code",
   "execution_count": 19,
   "id": "ff2d210e-8d6d-41e1-b170-32c5a79aa7f9",
   "metadata": {
    "tags": []
   },
   "outputs": [
    {
     "name": "stdout",
     "output_type": "stream",
     "text": [
      "subarray :  [[2 3]\n",
      " [5 6]]\n"
     ]
    }
   ],
   "source": [
    "#Method to access array elements within an array :slicing\n",
    "#access the sub arrays with row of 0 and 1 and column of 1 & 2\n",
    "slice_array=array_2D[0:2,1:3]\n",
    "print(\"subarray : \",slice_array)"
   ]
  },
  {
   "cell_type": "code",
   "execution_count": null,
   "id": "1171256c-f6b4-4294-bf0b-0d1bffabb44c",
   "metadata": {},
   "outputs": [],
   "source": []
  },
  {
   "cell_type": "code",
   "execution_count": null,
   "id": "97f67d43-613a-490e-a7f3-4eb47b44c510",
   "metadata": {},
   "outputs": [],
   "source": []
  }
 ],
 "metadata": {
  "kernelspec": {
   "display_name": "Python 3 (ipykernel)",
   "language": "python",
   "name": "python3"
  },
  "language_info": {
   "codemirror_mode": {
    "name": "ipython",
    "version": 3
   },
   "file_extension": ".py",
   "mimetype": "text/x-python",
   "name": "python",
   "nbconvert_exporter": "python",
   "pygments_lexer": "ipython3",
   "version": "3.11.5"
  }
 },
 "nbformat": 4,
 "nbformat_minor": 5
}
