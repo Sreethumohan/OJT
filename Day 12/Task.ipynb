{
 "cells": [
  {
   "cell_type": "code",
   "execution_count": 1,
   "id": "5387349c-0814-4e02-9b61-6351f74e0f8e",
   "metadata": {
    "tags": []
   },
   "outputs": [
    {
     "name": "stdout",
     "output_type": "stream",
     "text": [
      "5\n"
     ]
    }
   ],
   "source": [
    "#1. Counts the number of non-zero values in the array\n",
    "import numpy as np\n",
    "arr = np.array([0, 2, 3, 0, 5, 6, 0, 8])\n",
    "non_zero_count = np.count_nonzero(arr)\n",
    "print(non_zero_count)\n"
   ]
  },
  {
   "cell_type": "code",
   "execution_count": 2,
   "id": "0fb0fe42-df07-4c10-8c5f-f073b8662719",
   "metadata": {
    "tags": []
   },
   "outputs": [
    {
     "name": "stdout",
     "output_type": "stream",
     "text": [
      "Empty array:\n",
      " [[0. 0. 0.]\n",
      " [0. 0. 0.]\n",
      " [0. 0. 0.]]\n",
      "Full array:\n",
      " [[7 7 7]\n",
      " [7 7 7]\n",
      " [7 7 7]]\n"
     ]
    }
   ],
   "source": [
    "#2.How to create an empty and a full NumPy array?\n",
    "empty_array = np.empty((3, 3))\n",
    "print(\"Empty array:\\n\", empty_array)\n",
    "full_array = np.full((3, 3), 7)\n",
    "print(\"Full array:\\n\", full_array)\n"
   ]
  },
  {
   "cell_type": "code",
   "execution_count": 3,
   "id": "b7411e7f-5a4a-430a-9f75-fa5f8a17c17f",
   "metadata": {
    "tags": []
   },
   "outputs": [
    {
     "name": "stdout",
     "output_type": "stream",
     "text": [
      "Rows: 3 Columns: 3\n"
     ]
    }
   ],
   "source": [
    "#3. Find the number of rows and columns of a given matrix using NumPy\n",
    "matrix = np.array([[1, 2, 3], [4, 5, 6], [7, 8, 9]])\n",
    "rows, cols = matrix.shape\n",
    "print(\"Rows:\", rows, \"Columns:\", cols)\n"
   ]
  },
  {
   "cell_type": "code",
   "execution_count": 4,
   "id": "dad89f8b-6070-4375-934d-b37122fe9bfa",
   "metadata": {
    "tags": []
   },
   "outputs": [
    {
     "name": "stdout",
     "output_type": "stream",
     "text": [
      "Sum of matrix values: 45\n"
     ]
    }
   ],
   "source": [
    "#4.Find the sum of values in a matrix\n",
    "matrix_sum = np.sum(matrix)\n",
    "print(\"Sum of matrix values:\", matrix_sum)\n"
   ]
  },
  {
   "cell_type": "code",
   "execution_count": 5,
   "id": "10fe9569-6d24-46c6-803b-6936cda84c90",
   "metadata": {
    "tags": []
   },
   "outputs": [
    {
     "name": "stdout",
     "output_type": "stream",
     "text": [
      "Sum of diagonal elements (3x3): 15\n",
      "Sum of diagonal elements (4x4): 34\n"
     ]
    }
   ],
   "source": [
    "#5.Calculate the sum of the diagonal elements of a NumPy array 3*3 and 4*4\n",
    "#3x3 matrix\n",
    "matrix_3x3 = np.array([[1, 2, 3], [4, 5, 6], [7, 8, 9]])\n",
    "# Sum of diagonal elements\n",
    "diag_sum_3x3 = np.trace(matrix_3x3)\n",
    "print(\"Sum of diagonal elements (3x3):\", diag_sum_3x3)\n",
    "#4x4 matrix\n",
    "matrix_4x4 = np.array([[1, 2, 3, 4], [5, 6, 7, 8], [9, 10, 11, 12], [13, 14, 15, 16]])\n",
    "# Sum of diagonal elements\n",
    "diag_sum_4x4 = np.trace(matrix_4x4)\n",
    "print(\"Sum of diagonal elements (4x4):\", diag_sum_4x4)\n"
   ]
  },
  {
   "cell_type": "code",
   "execution_count": 6,
   "id": "e2ce2ecf-819b-4680-aa0d-eead709ebd0f",
   "metadata": {
    "tags": []
   },
   "outputs": [
    {
     "name": "stdout",
     "output_type": "stream",
     "text": [
      "Inverse of the matrix:\n",
      " [[-2.   1. ]\n",
      " [ 1.5 -0.5]]\n"
     ]
    }
   ],
   "source": [
    "#6. How to inverse a matrix using NumPy\n",
    "matrix_to_inverse = np.array([[1, 2], [3, 4]])\n",
    "matrix_inverse = np.linalg.inv(matrix_to_inverse)\n",
    "print(\"Inverse of the matrix:\\n\", matrix_inverse)\n"
   ]
  },
  {
   "cell_type": "code",
   "execution_count": 7,
   "id": "b6f0888c-5692-4c44-b014-2dccbe473510",
   "metadata": {
    "tags": []
   },
   "outputs": [
    {
     "name": "stdout",
     "output_type": "stream",
     "text": [
      "Matrix multiplication result:\n",
      " [[19 22]\n",
      " [43 50]]\n"
     ]
    }
   ],
   "source": [
    "#7. Matrix Multiplication in NumPy\n",
    "matrix_a = np.array([[1, 2], [3, 4]])\n",
    "matrix_b = np.array([[5, 6], [7, 8]])\n",
    "matrix_product = np.dot(matrix_a, matrix_b)\n",
    "print(\"Matrix multiplication result:\\n\", matrix_product)\n"
   ]
  },
  {
   "cell_type": "code",
   "execution_count": 8,
   "id": "2c87a427-af08-47c5-9607-f1f3c09b7dd1",
   "metadata": {
    "tags": []
   },
   "outputs": [
    {
     "name": "stdout",
     "output_type": "stream",
     "text": [
      "Maximum value: 9\n",
      "Minimum value: 1\n"
     ]
    }
   ],
   "source": [
    "#8. Get the maximum and minimum value from given matrix\n",
    "max_value = np.max(matrix)\n",
    "print(\"Maximum value:\", max_value)\n",
    "min_value = np.min(matrix)\n",
    "print(\"Minimum value:\", min_value)\n"
   ]
  },
  {
   "cell_type": "code",
   "execution_count": 9,
   "id": "5e3bda37-c6bd-42c7-b5e6-13c9d702d020",
   "metadata": {
    "tags": []
   },
   "outputs": [
    {
     "name": "stdout",
     "output_type": "stream",
     "text": [
      "Sum of matrices:\n",
      " [[ 6  8]\n",
      " [10 12]]\n",
      "Difference of matrices:\n",
      " [[-4 -4]\n",
      " [-4 -4]]\n"
     ]
    }
   ],
   "source": [
    "#9. Adding and Subtracting Matrices in Python.\n",
    "# Addition\n",
    "matrix_sum = np.add(matrix_a, matrix_b)\n",
    "print(\"Sum of matrices:\\n\", matrix_sum)\n",
    "# Subtraction\n",
    "matrix_diff = np.subtract(matrix_a, matrix_b)\n",
    "print(\"Difference of matrices:\\n\", matrix_diff)\n"
   ]
  },
  {
   "cell_type": "code",
   "execution_count": 10,
   "id": "8e0575f5-f18e-4b0a-a8c4-9f3e708e30da",
   "metadata": {
    "tags": []
   },
   "outputs": [
    {
     "name": "stdout",
     "output_type": "stream",
     "text": [
      "Frequency of unique values:\n",
      " {1: 1, 2: 2, 3: 3, 4: 4}\n"
     ]
    }
   ],
   "source": [
    "#10. How to count the frequency of unique values in NumPy array?\n",
    "array = np.array([1, 2, 2, 3, 3, 3, 4, 4, 4, 4])\n",
    "# Count frequency of unique values\n",
    "unique, counts = np.unique(array, return_counts=True)\n",
    "frequency = dict(zip(unique, counts))\n",
    "print(\"Frequency of unique values:\\n\", frequency)\n"
   ]
  },
  {
   "cell_type": "code",
   "execution_count": null,
   "id": "696cfa32-6064-4069-b5e4-f8054d0f67b8",
   "metadata": {},
   "outputs": [],
   "source": []
  }
 ],
 "metadata": {
  "kernelspec": {
   "display_name": "Python 3 (ipykernel)",
   "language": "python",
   "name": "python3"
  },
  "language_info": {
   "codemirror_mode": {
    "name": "ipython",
    "version": 3
   },
   "file_extension": ".py",
   "mimetype": "text/x-python",
   "name": "python",
   "nbconvert_exporter": "python",
   "pygments_lexer": "ipython3",
   "version": "3.11.5"
  }
 },
 "nbformat": 4,
 "nbformat_minor": 5
}
