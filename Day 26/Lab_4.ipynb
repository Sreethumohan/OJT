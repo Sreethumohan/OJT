{
 "cells": [
  {
   "cell_type": "code",
   "execution_count": 1,
   "id": "a0373ce2-f145-44f4-a97c-e5b3c8c144cc",
   "metadata": {
    "tags": []
   },
   "outputs": [],
   "source": [
    "#Lab 4 - Choose the best model for iris dataset using hyperparameter tuning"
   ]
  },
  {
   "cell_type": "code",
   "execution_count": 2,
   "id": "0de7ad78-bd63-4745-9797-6a6762f66233",
   "metadata": {
    "tags": []
   },
   "outputs": [],
   "source": [
    "#Questions\n",
    "#This program does the following:\n",
    "#Loads the Iris dataset.\n",
    "#Splits it into training and testing sets.\n",
    "#Defines a set of machine learning models (Random Forest, Support Vector Machine, and k-Nearest Neighbors).\n",
    "#Specifies hyperparameters to tune for each model.\n",
    "#Uses GridSearchCV to search for the best hyperparameters for each model.\n",
    "#Prints the best accuracy and best parameters found for each model.\n",
    "#Selects the best model based on the highest accuracy found during the hyperparameter tuning.\n",
    "#Evaluates the best model on the test set and prints the test accuracy."
   ]
  },
  {
   "cell_type": "code",
   "execution_count": 3,
   "id": "a81b99dc-fab6-43d4-bf3b-0fd16d08f371",
   "metadata": {
    "tags": []
   },
   "outputs": [],
   "source": [
    "from sklearn.datasets import load_iris\n",
    "from sklearn.model_selection import train_test_split, GridSearchCV\n",
    "from sklearn.ensemble import RandomForestClassifier\n",
    "from sklearn.svm import SVC\n",
    "from sklearn.neighbors import KNeighborsClassifier\n",
    "from sklearn.metrics import accuracy_score"
   ]
  },
  {
   "cell_type": "code",
   "execution_count": 4,
   "id": "d65c0173-6983-4307-9158-11629561da75",
   "metadata": {
    "tags": []
   },
   "outputs": [],
   "source": [
    "# Load the Iris dataset\n",
    "iris = load_iris()\n",
    "X = iris.data\n",
    "y = iris.target"
   ]
  },
  {
   "cell_type": "code",
   "execution_count": 5,
   "id": "1ff7f99a-b8fc-4c27-a103-0af01e24d0d3",
   "metadata": {
    "tags": []
   },
   "outputs": [],
   "source": [
    "# Split the dataset into training and testing sets\n",
    "X_train, X_test, y_train, y_test = train_test_split(X, y, test_size=0.2, random_state=42)"
   ]
  },
  {
   "cell_type": "code",
   "execution_count": 6,
   "id": "c03e44ae-12d3-4dfd-b87a-fa7b806dd707",
   "metadata": {
    "tags": []
   },
   "outputs": [],
   "source": [
    "# Define models\n",
    "models = {\n",
    "    'RandomForest': RandomForestClassifier(),\n",
    "    'SVM': SVC(),\n",
    "    'KNN': KNeighborsClassifier()\n",
    "}\n",
    "\n",
    "# Define hyperparameters to tune for each model\n",
    "params = {\n",
    "    'RandomForest': {'n_estimators': [50, 100, 200], 'max_depth': [None, 5, 10]},\n",
    "    'SVM': {'C': [0.1, 1, 10], 'kernel': ['linear', 'rbf']},\n",
    "    'KNN': {'n_neighbors': [3, 5, 7], 'weights': ['uniform', 'distance']}\n",
    "}"
   ]
  },
  {
   "cell_type": "code",
   "execution_count": 7,
   "id": "185636f8-a1ec-4d1a-be8a-f262986cbe09",
   "metadata": {
    "tags": []
   },
   "outputs": [
    {
     "name": "stdout",
     "output_type": "stream",
     "text": [
      "RandomForest: Best Accuracy - 0.95, Best Parameters - {'max_depth': None, 'n_estimators': 50}\n",
      "SVM: Best Accuracy - 0.9583333333333334, Best Parameters - {'C': 1, 'kernel': 'linear'}\n",
      "KNN: Best Accuracy - 0.9583333333333334, Best Parameters - {'n_neighbors': 3, 'weights': 'uniform'}\n",
      "The best model is: SVC(C=1, kernel='linear')\n",
      "Best accuracy is: 0.9583333333333334\n"
     ]
    }
   ],
   "source": [
    "best_model = None\n",
    "best_accuracy = 0\n",
    "# hyperparameter tuning using GridSearchCV\n",
    "for name, model in models.items():\n",
    "    grid_search = GridSearchCV(estimator=model, param_grid=params[name], cv=5, scoring='accuracy')\n",
    "    grid_search.fit(X_train, y_train)\n",
    "    accuracy = grid_search.best_score_\n",
    "    print(f\"{name}: Best Accuracy - {accuracy}, Best Parameters - {grid_search.best_params_}\")\n",
    "    if accuracy > best_accuracy:\n",
    "        best_accuracy = accuracy\n",
    "        best_model = grid_search.best_estimator_\n",
    "\n",
    "print(f\"The best model is: {best_model}\")\n",
    "print(f\"Best accuracy is: {best_accuracy}\")"
   ]
  },
  {
   "cell_type": "code",
   "execution_count": null,
   "id": "ccd27f2a-34c4-4423-8c00-1a4d2fa0cd9a",
   "metadata": {},
   "outputs": [],
   "source": []
  }
 ],
 "metadata": {
  "kernelspec": {
   "display_name": "Python 3 (ipykernel)",
   "language": "python",
   "name": "python3"
  },
  "language_info": {
   "codemirror_mode": {
    "name": "ipython",
    "version": 3
   },
   "file_extension": ".py",
   "mimetype": "text/x-python",
   "name": "python",
   "nbconvert_exporter": "python",
   "pygments_lexer": "ipython3",
   "version": "3.11.5"
  }
 },
 "nbformat": 4,
 "nbformat_minor": 5
}
