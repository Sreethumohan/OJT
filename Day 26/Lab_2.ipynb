{
 "cells": [
  {
   "cell_type": "code",
   "execution_count": 1,
   "id": "8ca1b240-2425-41d1-82c5-c8c92d5cad4c",
   "metadata": {
    "tags": []
   },
   "outputs": [],
   "source": [
    "#Evaluate Logistic regression model on Iris dataset using k-fold cross validation."
   ]
  },
  {
   "cell_type": "code",
   "execution_count": 2,
   "id": "9090244b-e458-4d91-b23a-6cbf375e1c57",
   "metadata": {
    "tags": []
   },
   "outputs": [],
   "source": [
    "# Import necessary library\n",
    "from sklearn.datasets import load_iris\n",
    "from sklearn.linear_model import LogisticRegression\n",
    "from sklearn.model_selection import cross_val_score, KFold"
   ]
  },
  {
   "cell_type": "code",
   "execution_count": 3,
   "id": "d212bab8-449d-498e-b130-3ac7afa0acaa",
   "metadata": {
    "tags": []
   },
   "outputs": [],
   "source": [
    "# Load the Iris dataset\n",
    "iris = load_iris()\n",
    "X = iris.data\n",
    "y = iris.target"
   ]
  },
  {
   "cell_type": "code",
   "execution_count": 4,
   "id": "1dd00b11-91c3-4e86-b5ee-63048a1daa29",
   "metadata": {
    "tags": []
   },
   "outputs": [],
   "source": [
    "# Initialize logistic regression model\n",
    "log_reg = LogisticRegression(max_iter=1000)  # Increase max_iter for convergence"
   ]
  },
  {
   "cell_type": "code",
   "execution_count": 5,
   "id": "549f81ee-2f81-4d7c-b862-2a50c8d2d5f8",
   "metadata": {
    "tags": []
   },
   "outputs": [],
   "source": [
    "# Define k-fold cross-validation\n",
    "k_fold = KFold(n_splits=5, shuffle=True, random_state=42)  # 5-fold CV, shuffling data"
   ]
  },
  {
   "cell_type": "code",
   "execution_count": 6,
   "id": "12715359-26c2-4ead-a4b8-a69610a4d057",
   "metadata": {
    "tags": []
   },
   "outputs": [
    {
     "name": "stdout",
     "output_type": "stream",
     "text": [
      "Accuracy for each fold: [1.         1.         0.93333333 0.96666667 0.96666667]\n"
     ]
    }
   ],
   "source": [
    "# Perform cross-validation\n",
    "scores = cross_val_score(log_reg, X, y, cv=k_fold)\n",
    "# Print the accuracy for each fold\n",
    "print(\"Accuracy for each fold:\", scores)"
   ]
  },
  {
   "cell_type": "code",
   "execution_count": 7,
   "id": "eb3bcf6e-8766-480a-a4cc-c46d9da95b78",
   "metadata": {
    "tags": []
   },
   "outputs": [
    {
     "name": "stdout",
     "output_type": "stream",
     "text": [
      "Mean Accuracy: 0.9733333333333334\n",
      "Standard Deviation: 0.024944382578492935\n"
     ]
    }
   ],
   "source": [
    "# Print the mean accuracy and standard deviation\n",
    "print(\"Mean Accuracy:\", scores.mean())\n",
    "print(\"Standard Deviation:\", scores.std())"
   ]
  },
  {
   "cell_type": "code",
   "execution_count": 8,
   "id": "b05a2de3-40df-4ac2-ad83-52b4bf0c8f2a",
   "metadata": {
    "tags": []
   },
   "outputs": [
    {
     "name": "stdout",
     "output_type": "stream",
     "text": [
      "Accuracy for each fold: [1.         1.         0.93333333 0.96666667 0.96666667]\n",
      "Mean Accuracy: 0.9733333333333334\n",
      "Standard Deviation: 0.024944382578492935\n",
      "\n",
      "Precision for each fold: [1.         1.         0.93333333 0.97435897 0.97222222]\n",
      "Mean Precision: 0.9759829059829059\n",
      "Standard Deviation: 0.02445161570739294\n",
      "\n",
      "Recall for each fold: [1.         1.         0.93333333 0.96666667 0.97222222]\n",
      "Mean Recall: 0.9744444444444443\n",
      "Standard Deviation: 0.024745619390355685\n",
      "\n",
      "F1 for each fold: [1.         1.         0.92592593 0.96912281 0.97101449]\n",
      "Mean F1: 0.9732126451394187\n",
      "Standard Deviation: 0.027176155815727295\n",
      "\n"
     ]
    }
   ],
   "source": [
    "# Define scoring metrics\n",
    "scoring = {'accuracy': 'accuracy',\n",
    "           'precision': 'precision_macro',\n",
    "           'recall': 'recall_macro',\n",
    "           'f1': 'f1_macro'}\n",
    "\n",
    "# Perform cross-validation for each metric\n",
    "for metric, score_func in scoring.items():\n",
    "    scores = cross_val_score(log_reg, X, y, cv=k_fold, scoring=score_func)\n",
    "    print(f\"{metric.capitalize()} for each fold:\", scores)\n",
    "    print(f\"Mean {metric.capitalize()}: {scores.mean()}\")\n",
    "    print(f\"Standard Deviation: {scores.std()}\")\n",
    "    print()"
   ]
  },
  {
   "cell_type": "code",
   "execution_count": null,
   "id": "cedffd55-ddf1-45ee-8d7c-f8271572e5c6",
   "metadata": {},
   "outputs": [],
   "source": []
  }
 ],
 "metadata": {
  "kernelspec": {
   "display_name": "Python 3 (ipykernel)",
   "language": "python",
   "name": "python3"
  },
  "language_info": {
   "codemirror_mode": {
    "name": "ipython",
    "version": 3
   },
   "file_extension": ".py",
   "mimetype": "text/x-python",
   "name": "python",
   "nbconvert_exporter": "python",
   "pygments_lexer": "ipython3",
   "version": "3.11.5"
  }
 },
 "nbformat": 4,
 "nbformat_minor": 5
}
