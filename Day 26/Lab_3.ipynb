{
 "cells": [
  {
   "cell_type": "code",
   "execution_count": 1,
   "id": "3a1877d0-b3e6-492d-830c-3e3fe59b2e29",
   "metadata": {
    "tags": []
   },
   "outputs": [],
   "source": [
    "#Evaluate Logistic regression model on Iris dataset using Stratified k-fold cross validation."
   ]
  },
  {
   "cell_type": "code",
   "execution_count": 2,
   "id": "e0ca7697-60af-4e15-958f-d87b72da102e",
   "metadata": {
    "tags": []
   },
   "outputs": [],
   "source": [
    "# Import necessary libraries\n",
    "from sklearn.datasets import load_iris\n",
    "from sklearn.linear_model import LogisticRegression\n",
    "from sklearn.model_selection import cross_val_score, StratifiedKFold\n"
   ]
  },
  {
   "cell_type": "code",
   "execution_count": 3,
   "id": "6b4263fb-790c-4593-998e-6c40352172f4",
   "metadata": {
    "tags": []
   },
   "outputs": [],
   "source": [
    "# Load the Iris dataset\n",
    "iris = load_iris()\n",
    "X = iris.data\n",
    "y = iris.target"
   ]
  },
  {
   "cell_type": "code",
   "execution_count": 4,
   "id": "1fa0d0cc-4894-4648-ae6e-622e686963e7",
   "metadata": {
    "tags": []
   },
   "outputs": [],
   "source": [
    "# Initialize logistic regression model\n",
    "log_reg = LogisticRegression(max_iter=1000)  # Increase max_iter for convergence"
   ]
  },
  {
   "cell_type": "code",
   "execution_count": 5,
   "id": "e3b36944-765e-4d5b-be39-26ff0da3219d",
   "metadata": {
    "tags": []
   },
   "outputs": [],
   "source": [
    "# Define stratified k-fold cross-validation\n",
    "stratified_k_fold = StratifiedKFold(n_splits=5, shuffle=True, random_state=42)  # 5-fold CV, stratified"
   ]
  },
  {
   "cell_type": "code",
   "execution_count": 6,
   "id": "c1a90cd1-ee4c-4a6e-9752-c8da8ba7e6a4",
   "metadata": {
    "tags": []
   },
   "outputs": [
    {
     "name": "stdout",
     "output_type": "stream",
     "text": [
      "Accuracy for each fold: [1.         0.96666667 0.93333333 1.         0.93333333]\n"
     ]
    }
   ],
   "source": [
    "# Perform cross-validation\n",
    "scores = cross_val_score(log_reg, X, y, cv=stratified_k_fold)\n",
    "# Print the accuracy for each fold\n",
    "print(\"Accuracy for each fold:\", scores)"
   ]
  },
  {
   "cell_type": "code",
   "execution_count": 7,
   "id": "33118d52-3f13-4046-9f7d-637013b9c6cc",
   "metadata": {
    "tags": []
   },
   "outputs": [
    {
     "name": "stdout",
     "output_type": "stream",
     "text": [
      "Mean Accuracy: 0.9666666666666668\n",
      "Standard Deviation: 0.029814239699997188\n"
     ]
    }
   ],
   "source": [
    "# Print the mean accuracy and standard deviation\n",
    "print(\"Mean Accuracy:\", scores.mean())\n",
    "print(\"Standard Deviation:\", scores.std())"
   ]
  },
  {
   "cell_type": "code",
   "execution_count": null,
   "id": "45a99b23-0e27-426c-8ef9-a0954a8bf88e",
   "metadata": {},
   "outputs": [],
   "source": []
  }
 ],
 "metadata": {
  "kernelspec": {
   "display_name": "Python 3 (ipykernel)",
   "language": "python",
   "name": "python3"
  },
  "language_info": {
   "codemirror_mode": {
    "name": "ipython",
    "version": 3
   },
   "file_extension": ".py",
   "mimetype": "text/x-python",
   "name": "python",
   "nbconvert_exporter": "python",
   "pygments_lexer": "ipython3",
   "version": "3.11.5"
  }
 },
 "nbformat": 4,
 "nbformat_minor": 5
}
