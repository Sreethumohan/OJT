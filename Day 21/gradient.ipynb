{
 "cells": [
  {
   "cell_type": "code",
   "execution_count": 1,
   "id": "eafc0499-62ee-4f22-a66a-6bc9d2323e3c",
   "metadata": {
    "tags": []
   },
   "outputs": [
    {
     "name": "stdout",
     "output_type": "stream",
     "text": [
      "minimum value of x: 2.0370359763344878e-09\n"
     ]
    }
   ],
   "source": [
    "x=10\n",
    "learning_rate=0.1\n",
    "num_iteration=100\n",
    "for i in range(num_iteration):\n",
    "    gradient=2*x\n",
    "    x=x-learning_rate*gradient\n",
    "print(f\"minimum value of x: {x}\")"
   ]
  },
  {
   "cell_type": "code",
   "execution_count": 7,
   "id": "86977aac-a8d1-44e7-83c7-059ce2627d23",
   "metadata": {
    "tags": []
   },
   "outputs": [
    {
     "name": "stdout",
     "output_type": "stream",
     "text": [
      "iteration 100:x=2.0370359763344878e-09,f(x)=4.1495155688809995e-18\n"
     ]
    }
   ],
   "source": [
    "x=10\n",
    "learning_rate=0.1\n",
    "num_iteration=100\n",
    "for i in range(num_iteration):\n",
    "    gradient=2*x\n",
    "    x=x-learning_rate*gradient\n",
    "print(f\"iteration {i+1}:x={x},f(x)={x**2}\")"
   ]
  },
  {
   "cell_type": "code",
   "execution_count": null,
   "id": "589e092c-bd11-409f-9976-2640ab60c374",
   "metadata": {},
   "outputs": [],
   "source": []
  }
 ],
 "metadata": {
  "kernelspec": {
   "display_name": "Python 3 (ipykernel)",
   "language": "python",
   "name": "python3"
  },
  "language_info": {
   "codemirror_mode": {
    "name": "ipython",
    "version": 3
   },
   "file_extension": ".py",
   "mimetype": "text/x-python",
   "name": "python",
   "nbconvert_exporter": "python",
   "pygments_lexer": "ipython3",
   "version": "3.11.5"
  }
 },
 "nbformat": 4,
 "nbformat_minor": 5
}
