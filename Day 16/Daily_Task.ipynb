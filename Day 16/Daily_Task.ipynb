{
 "cells": [
  {
   "cell_type": "code",
   "execution_count": 22,
   "id": "44a05c54-3213-44c6-89c0-419b11d722e6",
   "metadata": {
    "tags": []
   },
   "outputs": [
    {
     "name": "stdout",
     "output_type": "stream",
     "text": [
      "The shape of the Two Dimensioanl Array is :  (3, 3)\n"
     ]
    }
   ],
   "source": [
    "#1.Print the shape of a 2-D array\n",
    "import numpy as np\n",
    "array_2_D=np.array([[1,2,3],[4,5,6],[20,30,40]])\n",
    "array_2_D_shape=array_2_D.shape\n",
    "print(\"The shape of the Two Dimensioanl Array is : \",array_2_D_shape)"
   ]
  },
  {
   "cell_type": "code",
   "execution_count": 23,
   "id": "6a88e930-a1d3-4ec5-8f67-99d088abeec3",
   "metadata": {
    "tags": []
   },
   "outputs": [
    {
     "name": "stdout",
     "output_type": "stream",
     "text": [
      "The array of dimension 5 is :  [[[[[1 2 3 4]]]]]\n",
      "The value of array of last dimension is :  4\n"
     ]
    }
   ],
   "source": [
    "#2.Create an array with 5 dimensions using ndmin using a vector with values 1,2,3,4 and verify that last dimension has value 4\n",
    "array = np.array([1, 2, 3, 4], ndmin=5)\n",
    "print(\"The array of dimension 5 is : \",array)\n",
    "array_last_dimension = array[-1,-1,-1,-1,-1]\n",
    "print(\"The value of array of last dimension is : \",array_last_dimension)"
   ]
  },
  {
   "cell_type": "code",
   "execution_count": 24,
   "id": "968187dc-5676-4f41-ac64-03ca568f6a36",
   "metadata": {
    "tags": []
   },
   "outputs": [
    {
     "name": "stdout",
     "output_type": "stream",
     "text": [
      "The 1-D array of 12 elements is :  [ 1  2  3  4  5  6  7  8  9 10 11 12]\n",
      "The 2-D array of dimension 4  with 3 elements each is :  [[ 1  2  3]\n",
      " [ 4  5  6]\n",
      " [ 7  8  9]\n",
      " [10 11 12]]\n"
     ]
    }
   ],
   "source": [
    "#3.Convert the following 1-D array with 12 elements into a 2-D array. The outermost dimension will have 4 arrays, each with 3 elements:\n",
    "array_1D=np.array([1,2,3,4,5,6,7,8,9,10,11,12])\n",
    "print(\"The 1-D array of 12 elements is : \",array_1D)\n",
    "array_2D=array_1D.reshape(4,3)\n",
    "print(\"The 2-D array of dimension 4  with 3 elements each is : \",array_2D)\n"
   ]
  },
  {
   "cell_type": "code",
   "execution_count": 25,
   "id": "9126047d-2a9c-4014-81db-10f4137624d7",
   "metadata": {
    "tags": []
   },
   "outputs": [
    {
     "name": "stdout",
     "output_type": "stream",
     "text": [
      "The 3-D array  is :  [[[ 1  2]\n",
      "  [ 3  4]\n",
      "  [ 5  6]]\n",
      "\n",
      " [[ 7  8]\n",
      "  [ 9 10]\n",
      "  [11 12]]]\n"
     ]
    }
   ],
   "source": [
    "#4.Convert the following 1-D array with 12 elements into a 3-D array. The outermost dimension will have 2 arrays that contains 3 arrays, each with 2 elements\n",
    "array_3D=array_1D.reshape(2,3,2)\n",
    "print(\"The 3-D array  is : \",array_3D)"
   ]
  },
  {
   "cell_type": "code",
   "execution_count": 26,
   "id": "16e1ef55-5bcc-4e8a-b289-9666eebee98e",
   "metadata": {
    "tags": []
   },
   "outputs": [
    {
     "name": "stdout",
     "output_type": "stream",
     "text": [
      "The orginal or 1D array is :  [ 1  2  3  4  5  6  7  8  9 10 11 12]\n",
      "Is the reshaped array a view?  True\n",
      "The view array is :  [[ 1  2  3]\n",
      " [ 4  5  6]\n",
      " [ 7  8  9]\n",
      " [10 11 12]]\n",
      "Is the reshaped array a copy?  False\n",
      "The view array is :  [[ 1  2  3]\n",
      " [ 4  5  6]\n",
      " [ 7  8  9]\n",
      " [10 11 12]]\n"
     ]
    }
   ],
   "source": [
    "#5.Check if the returned array is a copy or a view\n",
    "print(\"The orginal or 1D array is : \",array_1D)\n",
    "array_view = array_1D.reshape(4, 3)\n",
    "array_copy = array_1D.reshape(4, 3).copy()\n",
    "print(\"Is the reshaped array a view? \", array_view.base is array_1D)\n",
    "print(\"The view array is : \",array_view)\n",
    "print(\"Is the reshaped array a copy? \", array_copy.base is array_1D)\n",
    "print(\"The view array is : \",array_copy)"
   ]
  },
  {
   "cell_type": "code",
   "execution_count": null,
   "id": "0d0b0cd1-8f63-4c5f-9a4f-18b5fb4566f7",
   "metadata": {},
   "outputs": [],
   "source": []
  }
 ],
 "metadata": {
  "kernelspec": {
   "display_name": "Python 3 (ipykernel)",
   "language": "python",
   "name": "python3"
  },
  "language_info": {
   "codemirror_mode": {
    "name": "ipython",
    "version": 3
   },
   "file_extension": ".py",
   "mimetype": "text/x-python",
   "name": "python",
   "nbconvert_exporter": "python",
   "pygments_lexer": "ipython3",
   "version": "3.11.5"
  }
 },
 "nbformat": 4,
 "nbformat_minor": 5
}
