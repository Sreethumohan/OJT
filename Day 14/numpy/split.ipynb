{
 "cells": [
  {
   "cell_type": "code",
   "execution_count": null,
   "id": "a6a1aad7-618f-4558-90eb-fa96f4cffeee",
   "metadata": {},
   "outputs": [],
   "source": [
    "#splitting of arrays\n",
    "#method - .split()"
   ]
  },
  {
   "cell_type": "code",
   "execution_count": 2,
   "id": "360abda6-b133-4b34-a692-e41904e8b1c4",
   "metadata": {
    "tags": []
   },
   "outputs": [
    {
     "name": "stdout",
     "output_type": "stream",
     "text": [
      "The orginal array is :  [1 2 3 4 5 6 7 8 9]\n",
      "The splitted array is :  [array([1, 2, 3]), array([4, 5, 6]), array([7, 8, 9])]\n"
     ]
    }
   ],
   "source": [
    "#1-D\n",
    "import numpy as np\n",
    "array=np.array([1,2,3,4,5,6,7,8,9])\n",
    "#split to 3 equal parts\n",
    "split_array=np.split(array,3)\n",
    "print(\"The orginal array is : \",array)\n",
    "print(\"The splitted array is : \",split_array)"
   ]
  },
  {
   "cell_type": "code",
   "execution_count": 4,
   "id": "dd822ee8-67ed-400b-89eb-f510133f4b00",
   "metadata": {
    "tags": []
   },
   "outputs": [
    {
     "name": "stdout",
     "output_type": "stream",
     "text": [
      "vertically splitted array is :  [array([[1, 2, 3],\n",
      "       [4, 5, 6]]), array([[ 7,  8,  9],\n",
      "       [10, 11, 12]])]\n"
     ]
    }
   ],
   "source": [
    "#2D/Multi-D\n",
    "#Vertically - vsplit()\n",
    "array_2d=np.array([[1,2,3],[4,5,6],[7,8,9],[10,11,12]])\n",
    "vsplit_array=np.vsplit(array_2d,2)\n",
    "print(\"vertically splitted array is : \",vsplit_array)"
   ]
  },
  {
   "cell_type": "code",
   "execution_count": 8,
   "id": "1bedb32f-3ac5-45fe-b978-0133e9976bbd",
   "metadata": {
    "tags": []
   },
   "outputs": [
    {
     "name": "stdout",
     "output_type": "stream",
     "text": [
      "Horizontally splitted array is :  [array([[1, 2, 3],\n",
      "       [4, 5, 6]]), array([[ 7,  8,  9],\n",
      "       [10, 11, 12]])]\n"
     ]
    }
   ],
   "source": [
    "#Horizontally -hsplit()\n",
    "array_2d=np.array([[1,2,3,4],[5,6,7,8]])\n",
    "hsplit_array=np.hsplit(array_2d,2)\n",
    "print(\"Horizontally splitted array is : \",vsplit_array)"
   ]
  },
  {
   "cell_type": "code",
   "execution_count": null,
   "id": "e82ffcdd-dd79-45ae-851e-7f15d788e8ed",
   "metadata": {},
   "outputs": [],
   "source": []
  }
 ],
 "metadata": {
  "kernelspec": {
   "display_name": "Python 3 (ipykernel)",
   "language": "python",
   "name": "python3"
  },
  "language_info": {
   "codemirror_mode": {
    "name": "ipython",
    "version": 3
   },
   "file_extension": ".py",
   "mimetype": "text/x-python",
   "name": "python",
   "nbconvert_exporter": "python",
   "pygments_lexer": "ipython3",
   "version": "3.11.5"
  }
 },
 "nbformat": 4,
 "nbformat_minor": 5
}
