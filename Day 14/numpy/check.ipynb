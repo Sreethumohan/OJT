{
 "cells": [
  {
   "cell_type": "code",
   "execution_count": null,
   "id": "56f9bd0a-c237-49c4-8068-2838f42cf602",
   "metadata": {},
   "outputs": [],
   "source": [
    "#check/Filter\n",
    " #method - \n",
    " "
   ]
  },
  {
   "cell_type": "code",
   "execution_count": 2,
   "id": "c7d41976-ecee-4690-b9a3-6a1f23f020e5",
   "metadata": {
    "tags": []
   },
   "outputs": [],
   "source": [
    "import numpy as np\n",
    "array=np.array([10,20,12,15,14,17])\n",
    "#check whether 20 is there or not\n"
   ]
  },
  {
   "cell_type": "code",
   "execution_count": 7,
   "id": "97195648-b328-4150-99b7-3c4787158566",
   "metadata": {
    "tags": []
   },
   "outputs": [
    {
     "name": "stdout",
     "output_type": "stream",
     "text": [
      "[20 17]\n"
     ]
    }
   ],
   "source": [
    "#element greater than 15\n",
    "elements=np.where(array>15)\n",
    "print(array[elements])"
   ]
  },
  {
   "cell_type": "code",
   "execution_count": 9,
   "id": "5a09ee7c-dc8f-439e-babf-00af209c7a36",
   "metadata": {
    "tags": []
   },
   "outputs": [
    {
     "name": "stdout",
     "output_type": "stream",
     "text": [
      "[10  0 12 15 14  0]\n"
     ]
    }
   ],
   "source": [
    "elements=np.where(array>15,0,array)\n",
    "print(elements)"
   ]
  },
  {
   "cell_type": "code",
   "execution_count": null,
   "id": "2c6fcdd3-a667-4cb9-a0d8-c26afb465c35",
   "metadata": {},
   "outputs": [],
   "source": []
  }
 ],
 "metadata": {
  "kernelspec": {
   "display_name": "Python 3 (ipykernel)",
   "language": "python",
   "name": "python3"
  },
  "language_info": {
   "codemirror_mode": {
    "name": "ipython",
    "version": 3
   },
   "file_extension": ".py",
   "mimetype": "text/x-python",
   "name": "python",
   "nbconvert_exporter": "python",
   "pygments_lexer": "ipython3",
   "version": "3.11.5"
  }
 },
 "nbformat": 4,
 "nbformat_minor": 5
}
