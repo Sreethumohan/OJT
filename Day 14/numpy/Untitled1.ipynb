{
 "cells": [
  {
   "cell_type": "code",
   "execution_count": null,
   "id": "b08d415b-263f-4d10-b10b-d624915608f2",
   "metadata": {},
   "outputs": [],
   "source": [
    "#Array join"
   ]
  },
  {
   "cell_type": "code",
   "execution_count": 2,
   "id": "b9f6e6b2-0bfb-4631-afb6-a9224bcacb78",
   "metadata": {
    "tags": []
   },
   "outputs": [
    {
     "name": "stdout",
     "output_type": "stream",
     "text": [
      "The concatenated array is :  [1 2 3 4 5 6]\n"
     ]
    }
   ],
   "source": [
    "#1.Concatenate() - for 1 D\n",
    "import numpy as np\n",
    "array1=np.array([1,2,3])\n",
    "array2=np.array([4,5,6])\n",
    "concat_array=np.concatenate((array1,array2))\n",
    "print(\"The concatenated array is : \",concat_array)"
   ]
  },
  {
   "cell_type": "code",
   "execution_count": 3,
   "id": "e613fa0c-a3c2-409a-8679-4955235ff86c",
   "metadata": {
    "tags": []
   },
   "outputs": [
    {
     "name": "stdout",
     "output_type": "stream",
     "text": [
      "Vertical stacked array is :  [[ 1  2  3]\n",
      " [ 4  5  6]\n",
      " [ 7  8  9]\n",
      " [10 11 12]\n",
      " [13 14 15]]\n"
     ]
    }
   ],
   "source": [
    "#2. 2-D array/multi_D -\n",
    "array2d_1=np.array([[1,2,3],[4,5,6]])\n",
    "array2d_2=np.array([[7,8,9],[10,11,12],[13,14,15]])\n",
    "#joining vertically and Horizontally\n",
    " #verical method - vstack\n",
    " #horizontal method - hstack\n",
    "#vstack\n",
    "vstack_array=np.vstack((array2d_1,array2d_2))\n",
    "print(\"Vertical stacked array is : \",vstack_array)\n",
    "\n"
   ]
  },
  {
   "cell_type": "code",
   "execution_count": 5,
   "id": "17950b8d-e7da-4248-a302-5a3f76469c4c",
   "metadata": {
    "tags": []
   },
   "outputs": [
    {
     "name": "stdout",
     "output_type": "stream",
     "text": [
      "Horizontally stacked array is :  [[ 1  2  3  7  8  9]\n",
      " [ 4  5  6 10 11 12]]\n"
     ]
    }
   ],
   "source": [
    "#hstack -work only if the two arrays are of same dimension\n",
    "array2d_1=np.array([[1,2,3],[4,5,6]])\n",
    "array2d_2=np.array([[7,8,9],[10,11,12]])\n",
    "hstack_array=np.hstack((array2d_1,array2d_2))\n",
    "print(\"Horizontally stacked array is : \",hstack_array)"
   ]
  },
  {
   "cell_type": "code",
   "execution_count": null,
   "id": "e35ecf7d-2d1a-4af6-bbd2-5eeecf8222da",
   "metadata": {},
   "outputs": [],
   "source": []
  }
 ],
 "metadata": {
  "kernelspec": {
   "display_name": "Python 3 (ipykernel)",
   "language": "python",
   "name": "python3"
  },
  "language_info": {
   "codemirror_mode": {
    "name": "ipython",
    "version": 3
   },
   "file_extension": ".py",
   "mimetype": "text/x-python",
   "name": "python",
   "nbconvert_exporter": "python",
   "pygments_lexer": "ipython3",
   "version": "3.11.5"
  }
 },
 "nbformat": 4,
 "nbformat_minor": 5
}
