{
 "cells": [
  {
   "cell_type": "code",
   "execution_count": null,
   "id": "e522fbe9-519a-4f93-92b1-378552a5ad2e",
   "metadata": {},
   "outputs": [],
   "source": [
    "#Iteration\n",
    "  #loop used iteration inside an array or list in py - for-in loop\n"
   ]
  },
  {
   "cell_type": "code",
   "execution_count": 2,
   "id": "8d182e67-c700-4af3-8576-bd95743d4eb0",
   "metadata": {
    "tags": []
   },
   "outputs": [
    {
     "name": "stdout",
     "output_type": "stream",
     "text": [
      "Array_1D :  [1 2 3 4 5 6]\n",
      "1\n",
      "2\n",
      "3\n",
      "4\n",
      "5\n",
      "6\n"
     ]
    }
   ],
   "source": [
    "#1-D Array\n",
    "import numpy as np\n",
    "array_1D=np.array([1,2,3,4,5,6])\n",
    "print(\"Array_1D : \",array_1D)\n",
    "#iterating each element in this array\n",
    "for elements in array_1D:\n",
    "    print(elements)"
   ]
  },
  {
   "cell_type": "code",
   "execution_count": 12,
   "id": "8d7eb89b-7d8d-4c2c-9e94-acaf379c309c",
   "metadata": {
    "tags": []
   },
   "outputs": [
    {
     "name": "stdout",
     "output_type": "stream",
     "text": [
      "Array_2D :  [[1 2 3]\n",
      " [4 5 6]\n",
      " [7 8 9]]\n",
      "[1 2 3]\n",
      "[4 5 6]\n",
      "[7 8 9]\n",
      "7\n",
      "8\n",
      "9\n"
     ]
    }
   ],
   "source": [
    "#2-D Array\n",
    "array_2D=np.array([[1,2,3],[4,5,6],[7,8,9]])\n",
    "print(\"Array_2D : \",array_2D)\n",
    "#iterating element in a 2-Darray\n",
    "for row in array_2D:\n",
    "#iterating each element in a 2-D array -nested forloop \n",
    "    print(row)\n",
    "for elements in row:\n",
    "    print(elements)"
   ]
  },
  {
   "cell_type": "code",
   "execution_count": 14,
   "id": "f694cc1a-51f2-4fb9-ad00-38bc60d6001f",
   "metadata": {
    "tags": []
   },
   "outputs": [
    {
     "name": "stdout",
     "output_type": "stream",
     "text": [
      "1\n",
      "2\n",
      "3\n",
      "4\n",
      "5\n",
      "6\n",
      "7\n",
      "8\n",
      "9\n"
     ]
    }
   ],
   "source": [
    "#method used for iteration in multidimensional array without adding nested loop -np.nditer()\n",
    "for elements in np.nditer(array_2D):\n",
    "    print(elements)"
   ]
  },
  {
   "cell_type": "code",
   "execution_count": 16,
   "id": "4fa40c04-9204-42cd-9e59-a82631ed7fd0",
   "metadata": {
    "tags": []
   },
   "outputs": [
    {
     "name": "stdout",
     "output_type": "stream",
     "text": [
      "Index :(0, 0), Elements : 1\n",
      "Index :(0, 1), Elements : 2\n",
      "Index :(0, 2), Elements : 3\n",
      "Index :(1, 0), Elements : 4\n",
      "Index :(1, 1), Elements : 5\n",
      "Index :(1, 2), Elements : 6\n",
      "Index :(2, 0), Elements : 7\n",
      "Index :(2, 1), Elements : 8\n",
      "Index :(2, 2), Elements : 9\n"
     ]
    }
   ],
   "source": [
    "#Iterating each elements with index values\n",
    "  #method - np.ndenumerate()\n",
    "for Index,elements in np.ndenumerate(array_2D):\n",
    "    print(f\"Index :{Index}, Elements : {elements}\")"
   ]
  },
  {
   "cell_type": "code",
   "execution_count": null,
   "id": "8ddc8e04-bf29-467c-84e4-2ba3b8bb49f4",
   "metadata": {},
   "outputs": [],
   "source": []
  }
 ],
 "metadata": {
  "kernelspec": {
   "display_name": "Python 3 (ipykernel)",
   "language": "python",
   "name": "python3"
  },
  "language_info": {
   "codemirror_mode": {
    "name": "ipython",
    "version": 3
   },
   "file_extension": ".py",
   "mimetype": "text/x-python",
   "name": "python",
   "nbconvert_exporter": "python",
   "pygments_lexer": "ipython3",
   "version": "3.11.5"
  }
 },
 "nbformat": 4,
 "nbformat_minor": 5
}
