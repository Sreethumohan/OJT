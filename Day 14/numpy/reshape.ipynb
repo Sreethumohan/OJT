{
 "cells": [
  {
   "cell_type": "code",
   "execution_count": null,
   "id": "d86eeb2c-ac69-479d-b93a-8a85d910d0c9",
   "metadata": {},
   "outputs": [],
   "source": [
    "#Reshaping arrays\n",
    "  #method used - .reshape()\n",
    "#shape of an array\n",
    "  #method - .shape"
   ]
  },
  {
   "cell_type": "code",
   "execution_count": 7,
   "id": "225d430e-3734-4f26-ab67-2cffe1dde532",
   "metadata": {
    "tags": []
   },
   "outputs": [
    {
     "name": "stdout",
     "output_type": "stream",
     "text": [
      "One Dimensional array is :  [3 4 5 6 7 8]\n",
      "Shape of the one Dimensional array is :  (6,)\n",
      "Two Dimensional array is :  [[3 4 5]\n",
      " [6 7 8]]\n",
      "Shape of the Two Dimensional array is :  (2, 3)\n"
     ]
    }
   ],
   "source": [
    "#1D to 2D\n",
    "import numpy as np\n",
    "array_1D=np.array([3,4,5,6,7,8,])\n",
    "print('One Dimensional array is : ',array_1D)\n",
    "print('Shape of the one Dimensional array is : ',array_1D.shape)\n",
    "array_2D=array_1D.reshape((2,3))\n",
    "print('Two Dimensional array is : ',array_2D)\n",
    "print('Shape of the Two Dimensional array is : ',array_2D.shape)"
   ]
  },
  {
   "cell_type": "code",
   "execution_count": 9,
   "id": "06ee6f78-05db-4c89-a70d-4f84c30e1342",
   "metadata": {
    "tags": []
   },
   "outputs": [
    {
     "name": "stdout",
     "output_type": "stream",
     "text": [
      "Three Dimensional array is :  [[3 4]\n",
      " [5 6]\n",
      " [7 8]]\n",
      "Shape of the Three  Dimensional array is :  (3, 2)\n"
     ]
    }
   ],
   "source": [
    "#1D to 3D\n",
    "array_3D=array_1D.reshape((3,2))\n",
    "print('Three Dimensional array is : ',array_3D)\n",
    "print('Shape of the Three  Dimensional array is : ',array_3D.shape)"
   ]
  },
  {
   "cell_type": "code",
   "execution_count": 10,
   "id": "d41e567e-3569-4280-be91-778127f2f70b",
   "metadata": {
    "tags": []
   },
   "outputs": [
    {
     "name": "stdout",
     "output_type": "stream",
     "text": [
      "Three Dimensional array is :  [[[3]\n",
      "  [4]]\n",
      "\n",
      " [[5]\n",
      "  [6]]\n",
      "\n",
      " [[7]\n",
      "  [8]]]\n",
      "Shape of the Three  Dimensional array is :  (3, 2, 1)\n"
     ]
    }
   ],
   "source": [
    "array_3D=array_1D.reshape((3,2,1))\n",
    "print('Three Dimensional array is : ',array_3D)\n",
    "print('Shape of the Three  Dimensional array is : ',array_3D.shape)"
   ]
  },
  {
   "cell_type": "code",
   "execution_count": 14,
   "id": "1cb47c5d-dfd6-41ea-8e8a-1a8118f818e4",
   "metadata": {
    "tags": []
   },
   "outputs": [
    {
     "name": "stdout",
     "output_type": "stream",
     "text": [
      "The one Dimensional array is :  [3 4 5 6 7 8]\n",
      "Shape of the one Dimensional array is :  (6,)\n"
     ]
    }
   ],
   "source": [
    "#2D to 1D\n",
    "array_1D_back=array_2D.reshape((-1))\n",
    "print('The one Dimensional array is : ',array_1D_back)\n",
    "print('Shape of the one Dimensional array is : ',array_1D_back.shape)"
   ]
  },
  {
   "cell_type": "code",
   "execution_count": 15,
   "id": "bff3c691-a237-4e3e-b23d-8b3ac6f96da6",
   "metadata": {
    "tags": []
   },
   "outputs": [
    {
     "name": "stdout",
     "output_type": "stream",
     "text": [
      "The one Dimensional array is :  [3 4 5 6 7 8]\n",
      "Shape of the one Dimensional array is :  (6,)\n"
     ]
    }
   ],
   "source": [
    "#2D to 1D another method\n",
    "array_1D_back=array_2D.reshape((6))\n",
    "print('The one Dimensional array is : ',array_1D_back)\n",
    "print('Shape of the one Dimensional array is : ',array_1D_back.shape)"
   ]
  },
  {
   "cell_type": "code",
   "execution_count": null,
   "id": "516deae6-3c32-4cba-8c08-29775c50d541",
   "metadata": {},
   "outputs": [],
   "source": []
  }
 ],
 "metadata": {
  "kernelspec": {
   "display_name": "Python 3 (ipykernel)",
   "language": "python",
   "name": "python3"
  },
  "language_info": {
   "codemirror_mode": {
    "name": "ipython",
    "version": 3
   },
   "file_extension": ".py",
   "mimetype": "text/x-python",
   "name": "python",
   "nbconvert_exporter": "python",
   "pygments_lexer": "ipython3",
   "version": "3.11.5"
  }
 },
 "nbformat": 4,
 "nbformat_minor": 5
}
