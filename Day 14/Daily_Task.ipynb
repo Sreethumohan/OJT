{
 "cells": [
  {
   "cell_type": "code",
   "execution_count": 1,
   "id": "6b546c71-f689-4ae2-8d23-b2c3cace5cc9",
   "metadata": {
    "tags": []
   },
   "outputs": [
    {
     "name": "stdout",
     "output_type": "stream",
     "text": [
      "Data type of array1: int32\n",
      "Data type of array2: <U1\n"
     ]
    }
   ],
   "source": [
    "#1. Get the data type of an array object & Get the data type of an array containing strings\n",
    "import numpy as np\n",
    "array1 = np.array([1, 2, 3])\n",
    "data_type1 = array1.dtype\n",
    "print(f\"Data type of array1: {data_type1}\")\n",
    "array2 = np.array(['a', 'b', 'c'])\n",
    "data_type2 = array2.dtype\n",
    "print(f\"Data type of array2: {data_type2}\")\n"
   ]
  },
  {
   "cell_type": "code",
   "execution_count": 2,
   "id": "fc6f33d1-b2f7-4b7e-8bb6-175f4fe32ab0",
   "metadata": {
    "tags": []
   },
   "outputs": [
    {
     "name": "stdout",
     "output_type": "stream",
     "text": [
      "Array with 4 bytes integer data type: [1 2 3], dtype: int32\n"
     ]
    }
   ],
   "source": [
    "#2. Create an array with data type 4 bytes integer\n",
    "array3 = np.array([1, 2, 3], dtype=np.int32)\n",
    "print(f\"Array with 4 bytes integer data type: {array3}, dtype: {array3.dtype}\")\n"
   ]
  },
  {
   "cell_type": "code",
   "execution_count": 3,
   "id": "0900c91d-624f-4ccb-8955-1db64838c835",
   "metadata": {
    "tags": []
   },
   "outputs": [
    {
     "name": "stdout",
     "output_type": "stream",
     "text": [
      "Array with data type changed to integer using 'i': [1 2 3], dtype: int32\n"
     ]
    }
   ],
   "source": [
    "#3. Change data type from float to integer by using 'i' as parameter value\n",
    "array4 = np.array([1.1, 2.2, 3.3], dtype=float)\n",
    "# Change data type from float to integer using 'i'\n",
    "array4_int = array4.astype('i')\n",
    "print(f\"Array with data type changed to integer using 'i': {array4_int}, dtype: {array4_int.dtype}\")\n"
   ]
  },
  {
   "cell_type": "code",
   "execution_count": 4,
   "id": "e5ca60d0-5635-4b0a-8544-23bf7de2385c",
   "metadata": {
    "tags": []
   },
   "outputs": [
    {
     "name": "stdout",
     "output_type": "stream",
     "text": [
      "Array with data type changed to integer using int: [1 2 3], dtype: int32\n"
     ]
    }
   ],
   "source": [
    "#4. Change data type from float to integer by using int as parameter value\n",
    "# Change data type from float to integer using int\n",
    "array4_int2 = array4.astype(int)\n",
    "print(f\"Array with data type changed to integer using int: {array4_int2}, dtype: {array4_int2.dtype}\")\n"
   ]
  },
  {
   "cell_type": "code",
   "execution_count": 5,
   "id": "83bd18e4-1bc1-4ee6-a0e4-d5157f0e4f18",
   "metadata": {
    "tags": []
   },
   "outputs": [
    {
     "name": "stdout",
     "output_type": "stream",
     "text": [
      "Array with data type changed to boolean: [False  True  True  True], dtype: bool\n"
     ]
    }
   ],
   "source": [
    "#5. Change data type from integer to boolean\n",
    "# Array with integer data type\n",
    "array5 = np.array([0, 1, 2, 3], dtype=int)\n",
    "# Change data type from integer to boolean\n",
    "array5_bool = array5.astype(bool)\n",
    "print(f\"Array with data type changed to boolean: {array5_bool}, dtype: {array5_bool.dtype}\")\n"
   ]
  },
  {
   "cell_type": "code",
   "execution_count": null,
   "id": "94de2ff8-5511-484a-94a6-2d284c37df3e",
   "metadata": {},
   "outputs": [],
   "source": []
  }
 ],
 "metadata": {
  "kernelspec": {
   "display_name": "Python 3 (ipykernel)",
   "language": "python",
   "name": "python3"
  },
  "language_info": {
   "codemirror_mode": {
    "name": "ipython",
    "version": 3
   },
   "file_extension": ".py",
   "mimetype": "text/x-python",
   "name": "python",
   "nbconvert_exporter": "python",
   "pygments_lexer": "ipython3",
   "version": "3.11.5"
  }
 },
 "nbformat": 4,
 "nbformat_minor": 5
}
