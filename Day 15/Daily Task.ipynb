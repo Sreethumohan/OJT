{
 "cells": [
  {
   "cell_type": "code",
   "execution_count": null,
   "id": "75659263-3b85-48f5-965c-e6e46d3c8d8a",
   "metadata": {
    "tags": []
   },
   "outputs": [],
   "source": [
    "#1.Make a copy, change the original array, and display both arrays\n",
    "import numpy as np\n",
    "orginal_array=np.array([[10,11,12],[13,14,15]])\n",
    "print(\"The Orginal Array is : \",orginal_array)\n",
    "copy_array=orginal_array.copy()\n",
    "print(\"The Copied Array is : \",copy_array)\n",
    "orginal_array[1,0]=20\n",
    "print(\"The Orginal Array after Modification is : \",orginal_array)"
   ]
  },
  {
   "cell_type": "code",
   "execution_count": 41,
   "id": "8c94aa34-5400-4d3b-af5f-46d80823d3da",
   "metadata": {
    "tags": []
   },
   "outputs": [
    {
     "name": "stdout",
     "output_type": "stream",
     "text": [
      "The Orginal Array is :  [[10 11 12]\n",
      " [20 14 15]]\n",
      "The View Array is :  [[10 11 12]\n",
      " [20 14 15]]\n",
      "The Modified Orginal Array is :  [[30 11 12]\n",
      " [20 14 15]]\n"
     ]
    }
   ],
   "source": [
    "#2.Make a view, change the original array, and display both arrays\n",
    "print(\"The Orginal Array is : \",orginal_array)\n",
    "view_array=orginal_array.view()\n",
    "print(\"The View Array is : \",view_array)\n",
    "orginal_array[0,0]=30\n",
    "print(\"The Modified Orginal Array is : \",orginal_array)\n"
   ]
  },
  {
   "cell_type": "code",
   "execution_count": 42,
   "id": "001a1c2c-ae8c-4d36-a518-c7108ec2a747",
   "metadata": {
    "tags": []
   },
   "outputs": [
    {
     "name": "stdout",
     "output_type": "stream",
     "text": [
      "The Orginal Array is :  [[30 11 12]\n",
      " [20 14 15]]\n",
      "The View Array is :  [[30 11 12]\n",
      " [20 14 15]]\n",
      "The Modified View Array is :  [[30 11 12]\n",
      " [10 14 15]]\n",
      "Orginal array after view Modification is :  [[30 11 12]\n",
      " [10 14 15]]\n"
     ]
    }
   ],
   "source": [
    "#3.Make a view, change the view, and display both arrays\n",
    "print(\"The Orginal Array is : \", orginal_array)\n",
    "view_array=orginal_array.view()\n",
    "print(\"The View Array is : \", view_array)\n",
    "view_array[1,0]=10\n",
    "print(\"The Modified View Array is : \", view_array)\n",
    "print(\"Orginal array after view Modification is : \",orginal_array)"
   ]
  },
  {
   "cell_type": "code",
   "execution_count": 44,
   "id": "25e4a65f-eaba-4398-9a89-d56ebf47110b",
   "metadata": {
    "tags": []
   },
   "outputs": [
    {
     "name": "stdout",
     "output_type": "stream",
     "text": [
      "Original Array base: None\n",
      "Copied Array base: None\n",
      "View Array base: [[30 11 12]\n",
      " [10 14 15]]\n"
     ]
    }
   ],
   "source": [
    "#4.Print the value of the base attribute to check if an array owns it's data or not\n",
    "print(\"Original Array base:\", orginal_array.base)\n",
    "print(\"Copied Array base:\", copy_array.base)\n",
    "print(\"View Array base:\", view_array.base)\n"
   ]
  },
  {
   "cell_type": "code",
   "execution_count": null,
   "id": "1c657ac3-0ba8-4931-87d3-1d4432d27794",
   "metadata": {},
   "outputs": [],
   "source": []
  }
 ],
 "metadata": {
  "kernelspec": {
   "display_name": "Python 3 (ipykernel)",
   "language": "python",
   "name": "python3"
  },
  "language_info": {
   "codemirror_mode": {
    "name": "ipython",
    "version": 3
   },
   "file_extension": ".py",
   "mimetype": "text/x-python",
   "name": "python",
   "nbconvert_exporter": "python",
   "pygments_lexer": "ipython3",
   "version": "3.11.5"
  }
 },
 "nbformat": 4,
 "nbformat_minor": 5
}
