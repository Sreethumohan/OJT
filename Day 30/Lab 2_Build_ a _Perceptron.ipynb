{
 "cells": [
  {
   "cell_type": "code",
   "execution_count": 1,
   "id": "834a2974-1a7d-4c1e-8479-3b88dbc3f8e1",
   "metadata": {
    "tags": []
   },
   "outputs": [],
   "source": [
    "#Build a Perceptron or a single neuron from the scratch\n",
    "#Components of a Perceptron\n",
    " #Inputs\n",
    " #Weighted sum\n",
    " #Activation function\n",
    " #OutPut"
   ]
  },
  {
   "cell_type": "code",
   "execution_count": 3,
   "id": "cb5aaaf5-5ada-4f46-85d8-83fd79f66d69",
   "metadata": {
    "tags": []
   },
   "outputs": [],
   "source": [
    "import numpy as np\n",
    "\n",
    "# Create a class of Perceptron\n",
    "class Perceptron:\n",
    "    def __init__(self, input_size, learning_rate=0.01, epochs=100):\n",
    "        self.weights = np.random.rand(input_size + 1)  # Add 1 for the bias\n",
    "        self.learning_rate = learning_rate\n",
    "        self.epochs = epochs\n",
    "    \n",
    "    # Define the weighted sum\n",
    "    def weighted_sum(self, inputs):\n",
    "        # Calculate the dot product of inputs and weights\n",
    "        return np.dot(inputs, self.weights)\n",
    "\n",
    "    # Define the activation function\n",
    "    def activation_function(self, x):\n",
    "        # Simple step function\n",
    "        return np.where(x >= 0, 1, 0)\n",
    "    \n",
    "    # Define the predict method to get the output\n",
    "    def predict(self, inputs):\n",
    "        # Calculate the weighted sum\n",
    "        z = self.weighted_sum(inputs)\n",
    "        # Apply activation function\n",
    "        return self.activation_function(z)\n",
    "    \n",
    "    # Define the loss function\n",
    "    def loss_function(self, predictions, targets):\n",
    "        # Mean squared error\n",
    "        return np.mean((predictions - targets) ** 2)\n",
    "    \n",
    "    # Define the fit method for the training\n",
    "    def fit(self, training_inputs, labels):\n",
    "        for epoch in range(1, self.epochs + 1):\n",
    "            epoch_loss = 0\n",
    "            correct_predictions = 0\n",
    "            for inputs, label in zip(training_inputs, labels):\n",
    "                # Add bias to inputs\n",
    "                inputs = np.insert(inputs, 0, 1)\n",
    "                # Calculate the weighted sum\n",
    "                z = self.weighted_sum(inputs)\n",
    "                # Apply activation function\n",
    "                prediction = self.activation_function(z)\n",
    "                # Update weights\n",
    "                update = self.learning_rate * (label - prediction)\n",
    "                self.weights += update * inputs\n",
    "                # Accumulate loss\n",
    "                epoch_loss += self.loss_function(prediction, label)\n",
    "                # Count correct predictions\n",
    "                if prediction == label:\n",
    "                    correct_predictions += 1\n",
    "            \n",
    "            # Print performance and loss for each epoch\n",
    "            print(f\"Epoch {epoch}:\")\n",
    "            accuracy = correct_predictions / len(labels)\n",
    "            print(f\" Accuracy: {accuracy:.2%},  Loss: {epoch_loss:.4f}\")"
   ]
  },
  {
   "cell_type": "code",
   "execution_count": null,
   "id": "d5503822-070d-464f-82f6-79f92ee0f6b9",
   "metadata": {},
   "outputs": [],
   "source": []
  }
 ],
 "metadata": {
  "kernelspec": {
   "display_name": "Python 3 (ipykernel)",
   "language": "python",
   "name": "python3"
  },
  "language_info": {
   "codemirror_mode": {
    "name": "ipython",
    "version": 3
   },
   "file_extension": ".py",
   "mimetype": "text/x-python",
   "name": "python",
   "nbconvert_exporter": "python",
   "pygments_lexer": "ipython3",
   "version": "3.11.5"
  }
 },
 "nbformat": 4,
 "nbformat_minor": 5
}
